{
 "cells": [
  {
   "cell_type": "code",
   "execution_count": 1,
   "id": "417311ce",
   "metadata": {},
   "outputs": [],
   "source": [
    "# Importing Libraries\n",
    "\n",
    "import numpy as np\n",
    "import pandas as pd\n",
    "from time import time\n",
    "import matplotlib.pyplot as plt \n",
    "import seaborn as sns\n",
    "import joblib\n",
    "import warnings\n",
    "warnings.filterwarnings('ignore', category=FutureWarning)\n",
    "warnings.filterwarnings('ignore', category=DeprecationWarning)\n",
    "\n",
    "# Library for Logistics Regression, SVM, Gradient Boosting \n",
    "from sklearn.linear_model import LogisticRegression\n",
    "from sklearn.svm import SVC\n",
    "from sklearn.ensemble import GradientBoostingClassifier\n",
    "from sklearn.preprocessing import LabelEncoder\n",
    "from sklearn.model_selection import train_test_split, GridSearchCV\n",
    "from sklearn.metrics import accuracy_score, precision_score, recall_score"
   ]
  },
  {
   "cell_type": "code",
   "execution_count": 2,
   "id": "550f0d2d",
   "metadata": {},
   "outputs": [
    {
     "data": {
      "text/html": [
       "<div>\n",
       "<style scoped>\n",
       "    .dataframe tbody tr th:only-of-type {\n",
       "        vertical-align: middle;\n",
       "    }\n",
       "\n",
       "    .dataframe tbody tr th {\n",
       "        vertical-align: top;\n",
       "    }\n",
       "\n",
       "    .dataframe thead th {\n",
       "        text-align: right;\n",
       "    }\n",
       "</style>\n",
       "<table border=\"1\" class=\"dataframe\">\n",
       "  <thead>\n",
       "    <tr style=\"text-align: right;\">\n",
       "      <th></th>\n",
       "      <th>sepal.length</th>\n",
       "      <th>sepal.width</th>\n",
       "      <th>petal.length</th>\n",
       "      <th>petal.width</th>\n",
       "      <th>variety</th>\n",
       "    </tr>\n",
       "  </thead>\n",
       "  <tbody>\n",
       "    <tr>\n",
       "      <th>0</th>\n",
       "      <td>5.1</td>\n",
       "      <td>3.5</td>\n",
       "      <td>1.4</td>\n",
       "      <td>0.2</td>\n",
       "      <td>Setosa</td>\n",
       "    </tr>\n",
       "    <tr>\n",
       "      <th>1</th>\n",
       "      <td>4.9</td>\n",
       "      <td>3.0</td>\n",
       "      <td>1.4</td>\n",
       "      <td>0.2</td>\n",
       "      <td>Setosa</td>\n",
       "    </tr>\n",
       "    <tr>\n",
       "      <th>2</th>\n",
       "      <td>4.7</td>\n",
       "      <td>3.2</td>\n",
       "      <td>1.3</td>\n",
       "      <td>0.2</td>\n",
       "      <td>Setosa</td>\n",
       "    </tr>\n",
       "    <tr>\n",
       "      <th>3</th>\n",
       "      <td>4.6</td>\n",
       "      <td>3.1</td>\n",
       "      <td>1.5</td>\n",
       "      <td>0.2</td>\n",
       "      <td>Setosa</td>\n",
       "    </tr>\n",
       "    <tr>\n",
       "      <th>4</th>\n",
       "      <td>5.0</td>\n",
       "      <td>3.6</td>\n",
       "      <td>1.4</td>\n",
       "      <td>0.2</td>\n",
       "      <td>Setosa</td>\n",
       "    </tr>\n",
       "  </tbody>\n",
       "</table>\n",
       "</div>"
      ],
      "text/plain": [
       "   sepal.length  sepal.width  petal.length  petal.width variety\n",
       "0           5.1          3.5           1.4          0.2  Setosa\n",
       "1           4.9          3.0           1.4          0.2  Setosa\n",
       "2           4.7          3.2           1.3          0.2  Setosa\n",
       "3           4.6          3.1           1.5          0.2  Setosa\n",
       "4           5.0          3.6           1.4          0.2  Setosa"
      ]
     },
     "execution_count": 2,
     "metadata": {},
     "output_type": "execute_result"
    }
   ],
   "source": [
    "# Load Iris Data\n",
    "\n",
    "df = pd.read_excel('iris.xlsx')\n",
    "df.head()"
   ]
  },
  {
   "cell_type": "code",
   "execution_count": 3,
   "id": "aa6354a6",
   "metadata": {},
   "outputs": [
    {
     "data": {
      "text/html": [
       "<div>\n",
       "<style scoped>\n",
       "    .dataframe tbody tr th:only-of-type {\n",
       "        vertical-align: middle;\n",
       "    }\n",
       "\n",
       "    .dataframe tbody tr th {\n",
       "        vertical-align: top;\n",
       "    }\n",
       "\n",
       "    .dataframe thead th {\n",
       "        text-align: right;\n",
       "    }\n",
       "</style>\n",
       "<table border=\"1\" class=\"dataframe\">\n",
       "  <thead>\n",
       "    <tr style=\"text-align: right;\">\n",
       "      <th></th>\n",
       "      <th>sepal.length</th>\n",
       "      <th>sepal.width</th>\n",
       "      <th>petal.length</th>\n",
       "      <th>petal.width</th>\n",
       "    </tr>\n",
       "  </thead>\n",
       "  <tbody>\n",
       "    <tr>\n",
       "      <th>count</th>\n",
       "      <td>150.000000</td>\n",
       "      <td>150.000000</td>\n",
       "      <td>150.000000</td>\n",
       "      <td>150.000000</td>\n",
       "    </tr>\n",
       "    <tr>\n",
       "      <th>mean</th>\n",
       "      <td>5.843333</td>\n",
       "      <td>3.057333</td>\n",
       "      <td>3.758000</td>\n",
       "      <td>1.199333</td>\n",
       "    </tr>\n",
       "    <tr>\n",
       "      <th>std</th>\n",
       "      <td>0.828066</td>\n",
       "      <td>0.435866</td>\n",
       "      <td>1.765298</td>\n",
       "      <td>0.762238</td>\n",
       "    </tr>\n",
       "    <tr>\n",
       "      <th>min</th>\n",
       "      <td>4.300000</td>\n",
       "      <td>2.000000</td>\n",
       "      <td>1.000000</td>\n",
       "      <td>0.100000</td>\n",
       "    </tr>\n",
       "    <tr>\n",
       "      <th>25%</th>\n",
       "      <td>5.100000</td>\n",
       "      <td>2.800000</td>\n",
       "      <td>1.600000</td>\n",
       "      <td>0.300000</td>\n",
       "    </tr>\n",
       "    <tr>\n",
       "      <th>50%</th>\n",
       "      <td>5.800000</td>\n",
       "      <td>3.000000</td>\n",
       "      <td>4.350000</td>\n",
       "      <td>1.300000</td>\n",
       "    </tr>\n",
       "    <tr>\n",
       "      <th>75%</th>\n",
       "      <td>6.400000</td>\n",
       "      <td>3.300000</td>\n",
       "      <td>5.100000</td>\n",
       "      <td>1.800000</td>\n",
       "    </tr>\n",
       "    <tr>\n",
       "      <th>max</th>\n",
       "      <td>7.900000</td>\n",
       "      <td>4.400000</td>\n",
       "      <td>6.900000</td>\n",
       "      <td>2.500000</td>\n",
       "    </tr>\n",
       "  </tbody>\n",
       "</table>\n",
       "</div>"
      ],
      "text/plain": [
       "       sepal.length  sepal.width  petal.length  petal.width\n",
       "count    150.000000   150.000000    150.000000   150.000000\n",
       "mean       5.843333     3.057333      3.758000     1.199333\n",
       "std        0.828066     0.435866      1.765298     0.762238\n",
       "min        4.300000     2.000000      1.000000     0.100000\n",
       "25%        5.100000     2.800000      1.600000     0.300000\n",
       "50%        5.800000     3.000000      4.350000     1.300000\n",
       "75%        6.400000     3.300000      5.100000     1.800000\n",
       "max        7.900000     4.400000      6.900000     2.500000"
      ]
     },
     "execution_count": 3,
     "metadata": {},
     "output_type": "execute_result"
    }
   ],
   "source": [
    "# Statistical Values about the Iris dataset\n",
    "\n",
    "df.describe()"
   ]
  },
  {
   "cell_type": "code",
   "execution_count": 4,
   "id": "39fd37a9",
   "metadata": {},
   "outputs": [
    {
     "data": {
      "text/plain": [
       "(150, 5)"
      ]
     },
     "execution_count": 4,
     "metadata": {},
     "output_type": "execute_result"
    }
   ],
   "source": [
    "# Basic info - Not Null count, Data type\n",
    "\n",
    "df.shape"
   ]
  },
  {
   "cell_type": "code",
   "execution_count": 5,
   "id": "b6b7ca66",
   "metadata": {},
   "outputs": [
    {
     "data": {
      "text/plain": [
       "Setosa        50\n",
       "Versicolor    50\n",
       "Virginica     50\n",
       "Name: variety, dtype: int64"
      ]
     },
     "execution_count": 5,
     "metadata": {},
     "output_type": "execute_result"
    }
   ],
   "source": [
    "df['variety'].value_counts()"
   ]
  },
  {
   "cell_type": "code",
   "execution_count": 6,
   "id": "01d57cfb",
   "metadata": {},
   "outputs": [
    {
     "data": {
      "text/plain": [
       "sepal.length    0\n",
       "sepal.width     0\n",
       "petal.length    0\n",
       "petal.width     0\n",
       "variety         0\n",
       "dtype: int64"
      ]
     },
     "execution_count": 6,
     "metadata": {},
     "output_type": "execute_result"
    }
   ],
   "source": [
    "# Check for null values\n",
    "\n",
    "df.isnull().sum()"
   ]
  },
  {
   "cell_type": "markdown",
   "id": "c3b12ab1",
   "metadata": {},
   "source": [
    "## Exploratory Data Analysis"
   ]
  },
  {
   "cell_type": "code",
   "execution_count": 7,
   "id": "033133fc",
   "metadata": {},
   "outputs": [
    {
     "data": {
      "image/png": "[encoded data removed]",
      "text/plain": [
       "<Figure size 300x300 with 1 Axes>"
      ]
     },
     "metadata": {},
     "output_type": "display_data"
    }
   ],
   "source": [
    "# EDA - Histogram\n",
    "desc = \"Sepal length\"\n",
    "df['sepal.length'].hist(figsize=(3,3))\n",
    "plt.suptitle(desc)\n",
    "plt.show()"
   ]
  },
  {
   "cell_type": "code",
   "execution_count": 8,
   "id": "7c69c233",
   "metadata": {},
   "outputs": [
    {
     "data": {
      "image/png": "[encoded data removed]",
      "text/plain": [
       "<Figure size 300x300 with 1 Axes>"
      ]
     },
     "metadata": {},
     "output_type": "display_data"
    }
   ],
   "source": [
    "desc = \"Sepal width\"\n",
    "df['sepal.width'].hist(figsize=(3,3))\n",
    "plt.suptitle(desc)\n",
    "plt.show()"
   ]
  },
  {
   "cell_type": "code",
   "execution_count": 9,
   "id": "70070d8b",
   "metadata": {},
   "outputs": [
    {
     "data": {
      "image/png": "[encoded data removed]",
      "text/plain": [
       "<Figure size 300x300 with 1 Axes>"
      ]
     },
     "metadata": {},
     "output_type": "display_data"
    }
   ],
   "source": [
    "desc = \"Petal length\"\n",
    "df['petal.length'].hist(figsize=(3,3))\n",
    "plt.suptitle(desc)\n",
    "plt.show()"
   ]
  },
  {
   "cell_type": "code",
   "execution_count": 10,
   "id": "c88b30f0",
   "metadata": {},
   "outputs": [
    {
     "data": {
      "image/png": "[encoded data removed]",
      "text/plain": [
       "<Figure size 300x300 with 1 Axes>"
      ]
     },
     "metadata": {},
     "output_type": "display_data"
    }
   ],
   "source": [
    "desc = \"Petal width\"\n",
    "df['petal.width'].hist(figsize=(3,3))\n",
    "plt.suptitle(desc)\n",
    "plt.show()"
   ]
  },
  {
   "cell_type": "markdown",
   "id": "dcfb13f4",
   "metadata": {},
   "source": [
    "## Histogram Visualization - Analysis\n",
    "Histograms are generated for various attributes such as sepal length, sepal width, petal length, petal width. Most graphs form \n",
    "bell-shaped curves that is measures are normally distributed. As a result, the training would be rather simple."
   ]
  },
  {
   "cell_type": "code",
   "execution_count": 11,
   "id": "94e892e7",
   "metadata": {},
   "outputs": [],
   "source": [
    "# EDA - Scatterplot\n",
    "\n",
    "colors = ['red', 'orange', 'green']\n",
    "variants = ['Virginica','Versicolor','Setosa']"
   ]
  },
  {
   "cell_type": "code",
   "execution_count": 12,
   "id": "2c937871",
   "metadata": {},
   "outputs": [
    {
     "data": {
      "image/png": "[encoded data removed]",
      "text/plain": [
       "<Figure size 640x480 with 1 Axes>"
      ]
     },
     "metadata": {},
     "output_type": "display_data"
    }
   ],
   "source": [
    "for i in range(3):\n",
    "    x = df[df['variety']==variants[i]]\n",
    "    plt.scatter(x['sepal.length'],x['sepal.width'], c = colors[i], label=variants[i])\n",
    "plt.xlabel(\"Sepal Length\")\n",
    "plt.ylabel(\"Sepal Width\")\n",
    "plt.legend()\n",
    "plt.show()"
   ]
  },
  {
   "cell_type": "code",
   "execution_count": 13,
   "id": "df1f526d",
   "metadata": {},
   "outputs": [
    {
     "data": {
      "image/png": "[encoded data removed]",
      "text/plain": [
       "<Figure size 640x480 with 1 Axes>"
      ]
     },
     "metadata": {},
     "output_type": "display_data"
    }
   ],
   "source": [
    "for i in range(3):\n",
    "    x = df[df['variety']==variants[i]]\n",
    "    plt.scatter(x['petal.length'],x['petal.width'], c = colors[i], label=variants[i])\n",
    "plt.xlabel(\"Petal Length\")\n",
    "plt.ylabel(\"Petal Width\")\n",
    "plt.legend()\n",
    "plt.show()"
   ]
  },
  {
   "cell_type": "code",
   "execution_count": 14,
   "id": "7dc2192d",
   "metadata": {},
   "outputs": [
    {
     "data": {
      "image/png": "[encoded data removed]",
      "text/plain": [
       "<Figure size 640x480 with 1 Axes>"
      ]
     },
     "metadata": {},
     "output_type": "display_data"
    }
   ],
   "source": [
    "for i in range(3):\n",
    "    x = df[df['variety']==variants[i]]\n",
    "    plt.scatter(x['sepal.length'],x['petal.length'], c = colors[i], label=variants[i])\n",
    "plt.xlabel(\"Sepal Length\")\n",
    "plt.ylabel(\"Petal Length\")\n",
    "plt.legend()\n",
    "plt.show()"
   ]
  },
  {
   "cell_type": "code",
   "execution_count": 15,
   "id": "e6bc6670",
   "metadata": {},
   "outputs": [
    {
     "data": {
      "image/png": "[encoded data removed]",
      "text/plain": [
       "<Figure size 640x480 with 1 Axes>"
      ]
     },
     "metadata": {},
     "output_type": "display_data"
    }
   ],
   "source": [
    "for i in range(3):\n",
    "    x = df[df['variety']==variants[i]]\n",
    "    plt.scatter(x['sepal.width'],x['petal.width'], c = colors[i], label=variants[i])\n",
    "plt.xlabel(\"Sepal Width\")\n",
    "plt.ylabel(\"Petal Width\")\n",
    "plt.legend()\n",
    "plt.show()"
   ]
  },
  {
   "cell_type": "markdown",
   "id": "739842f5",
   "metadata": {},
   "source": [
    "## Scatter plot Visualization - Analysis\n",
    "\n",
    "It is evident from the scatter plots that there are three classes: Setosa, Versicolor, and Verginica. Versicolor and Verginica \n",
    "classes are overlapped among those, however Setosa class is isolated in all plotting."
   ]
  },
  {
   "cell_type": "code",
   "execution_count": 16,
   "id": "bdd4ba9e",
   "metadata": {},
   "outputs": [
    {
     "data": {
      "text/html": [
       "<div>\n",
       "<style scoped>\n",
       "    .dataframe tbody tr th:only-of-type {\n",
       "        vertical-align: middle;\n",
       "    }\n",
       "\n",
       "    .dataframe tbody tr th {\n",
       "        vertical-align: top;\n",
       "    }\n",
       "\n",
       "    .dataframe thead th {\n",
       "        text-align: right;\n",
       "    }\n",
       "</style>\n",
       "<table border=\"1\" class=\"dataframe\">\n",
       "  <thead>\n",
       "    <tr style=\"text-align: right;\">\n",
       "      <th></th>\n",
       "      <th>sepal.length</th>\n",
       "      <th>sepal.width</th>\n",
       "      <th>petal.length</th>\n",
       "      <th>petal.width</th>\n",
       "    </tr>\n",
       "  </thead>\n",
       "  <tbody>\n",
       "    <tr>\n",
       "      <th>sepal.length</th>\n",
       "      <td>1.000000</td>\n",
       "      <td>-0.117570</td>\n",
       "      <td>0.871754</td>\n",
       "      <td>0.817941</td>\n",
       "    </tr>\n",
       "    <tr>\n",
       "      <th>sepal.width</th>\n",
       "      <td>-0.117570</td>\n",
       "      <td>1.000000</td>\n",
       "      <td>-0.428440</td>\n",
       "      <td>-0.366126</td>\n",
       "    </tr>\n",
       "    <tr>\n",
       "      <th>petal.length</th>\n",
       "      <td>0.871754</td>\n",
       "      <td>-0.428440</td>\n",
       "      <td>1.000000</td>\n",
       "      <td>0.962865</td>\n",
       "    </tr>\n",
       "    <tr>\n",
       "      <th>petal.width</th>\n",
       "      <td>0.817941</td>\n",
       "      <td>-0.366126</td>\n",
       "      <td>0.962865</td>\n",
       "      <td>1.000000</td>\n",
       "    </tr>\n",
       "  </tbody>\n",
       "</table>\n",
       "</div>"
      ],
      "text/plain": [
       "              sepal.length  sepal.width  petal.length  petal.width\n",
       "sepal.length      1.000000    -0.117570      0.871754     0.817941\n",
       "sepal.width      -0.117570     1.000000     -0.428440    -0.366126\n",
       "petal.length      0.871754    -0.428440      1.000000     0.962865\n",
       "petal.width       0.817941    -0.366126      0.962865     1.000000"
      ]
     },
     "execution_count": 16,
     "metadata": {},
     "output_type": "execute_result"
    }
   ],
   "source": [
    "# Finding Coorelation Matrix\n",
    "\n",
    "numeric_columns = df.select_dtypes(include=['float64', 'int64']).columns\n",
    "corr = df[numeric_columns].corr()"
   ]
  },
  {
   "cell_type": "code",
   "execution_count": 17,
   "id": "02decf60",
   "metadata": {},
   "outputs": [
    {
     "data": {
      "image/png": "[encoded data removed]",
      "text/plain": [
       "<Figure size 500x400 with 2 Axes>"
      ]
     },
     "metadata": {},
     "output_type": "display_data"
    }
   ],
   "source": [
    "# EDA Heatmap\n",
    "\n",
    "fid, ax = plt.subplots(figsize=(5,4))\n",
    "sns.heatmap(corr, annot=True, ax=ax)\n",
    "plt.title('Correlation Heatmap')\n",
    "plt.show()"
   ]
  },
  {
   "cell_type": "markdown",
   "id": "89659937",
   "metadata": {},
   "source": [
    "## Correlation Matrix - Analysis\n",
    "\n",
    "In this correlation matrix, black color represent negative correlation and skin light color represents higher correlation. Petal\n",
    "length against petal width has the highest correlation that is 0.96."
   ]
  },
  {
   "cell_type": "markdown",
   "id": "14ac1245",
   "metadata": {},
   "source": [
    "## Label Encoding"
   ]
  },
  {
   "cell_type": "code",
   "execution_count": 18,
   "id": "1e467859",
   "metadata": {},
   "outputs": [
    {
     "data": {
      "text/html": [
       "<div>\n",
       "<style scoped>\n",
       "    .dataframe tbody tr th:only-of-type {\n",
       "        vertical-align: middle;\n",
       "    }\n",
       "\n",
       "    .dataframe tbody tr th {\n",
       "        vertical-align: top;\n",
       "    }\n",
       "\n",
       "    .dataframe thead th {\n",
       "        text-align: right;\n",
       "    }\n",
       "</style>\n",
       "<table border=\"1\" class=\"dataframe\">\n",
       "  <thead>\n",
       "    <tr style=\"text-align: right;\">\n",
       "      <th></th>\n",
       "      <th>sepal.length</th>\n",
       "      <th>sepal.width</th>\n",
       "      <th>petal.length</th>\n",
       "      <th>petal.width</th>\n",
       "      <th>variety</th>\n",
       "    </tr>\n",
       "  </thead>\n",
       "  <tbody>\n",
       "    <tr>\n",
       "      <th>0</th>\n",
       "      <td>5.1</td>\n",
       "      <td>3.5</td>\n",
       "      <td>1.4</td>\n",
       "      <td>0.2</td>\n",
       "      <td>0</td>\n",
       "    </tr>\n",
       "    <tr>\n",
       "      <th>1</th>\n",
       "      <td>4.9</td>\n",
       "      <td>3.0</td>\n",
       "      <td>1.4</td>\n",
       "      <td>0.2</td>\n",
       "      <td>0</td>\n",
       "    </tr>\n",
       "    <tr>\n",
       "      <th>2</th>\n",
       "      <td>4.7</td>\n",
       "      <td>3.2</td>\n",
       "      <td>1.3</td>\n",
       "      <td>0.2</td>\n",
       "      <td>0</td>\n",
       "    </tr>\n",
       "    <tr>\n",
       "      <th>3</th>\n",
       "      <td>4.6</td>\n",
       "      <td>3.1</td>\n",
       "      <td>1.5</td>\n",
       "      <td>0.2</td>\n",
       "      <td>0</td>\n",
       "    </tr>\n",
       "    <tr>\n",
       "      <th>4</th>\n",
       "      <td>5.0</td>\n",
       "      <td>3.6</td>\n",
       "      <td>1.4</td>\n",
       "      <td>0.2</td>\n",
       "      <td>0</td>\n",
       "    </tr>\n",
       "  </tbody>\n",
       "</table>\n",
       "</div>"
      ],
      "text/plain": [
       "   sepal.length  sepal.width  petal.length  petal.width  variety\n",
       "0           5.1          3.5           1.4          0.2        0\n",
       "1           4.9          3.0           1.4          0.2        0\n",
       "2           4.7          3.2           1.3          0.2        0\n",
       "3           4.6          3.1           1.5          0.2        0\n",
       "4           5.0          3.6           1.4          0.2        0"
      ]
     },
     "execution_count": 18,
     "metadata": {},
     "output_type": "execute_result"
    }
   ],
   "source": [
    "le = LabelEncoder()\n",
    "\n",
    "df['variety'] = le.fit_transform(df['variety'])\n",
    "df.head()"
   ]
  },
  {
   "cell_type": "code",
   "execution_count": 19,
   "id": "73101b14",
   "metadata": {},
   "outputs": [
    {
     "data": {
      "text/plain": [
       "0      0\n",
       "1      0\n",
       "2      0\n",
       "3      0\n",
       "4      0\n",
       "      ..\n",
       "145    2\n",
       "146    2\n",
       "147    2\n",
       "148    2\n",
       "149    2\n",
       "Name: variety, Length: 150, dtype: int32"
      ]
     },
     "execution_count": 19,
     "metadata": {},
     "output_type": "execute_result"
    }
   ],
   "source": [
    "df['variety']"
   ]
  },
  {
   "cell_type": "markdown",
   "id": "b262165d",
   "metadata": {},
   "source": [
    "# Train, Test and Validation split (60, 20, 20)"
   ]
  },
  {
   "cell_type": "code",
   "execution_count": 20,
   "id": "d76b6231",
   "metadata": {},
   "outputs": [],
   "source": [
    "features = df.drop(columns=['variety'])\n",
    "labels = df['variety']\n",
    "\n",
    "X_train, X_test, y_train, y_test = train_test_split(features, labels, test_size=0.4, random_state=42)\n",
    "X_test, X_val, y_test, y_val = train_test_split(X_test, y_test, test_size=0.5)"
   ]
  },
  {
   "cell_type": "markdown",
   "id": "24d2fef1",
   "metadata": {},
   "source": [
    "## Logistic Regression"
   ]
  },
  {
   "cell_type": "code",
   "execution_count": 21,
   "id": "c96ad35a",
   "metadata": {},
   "outputs": [],
   "source": [
    "def model_results(results):\n",
    "    print('BEST PARAMS: {}\\n'.format(results.best_params_))\n",
    "\n",
    "    means = results.cv_results_['mean_test_score']\n",
    "    stds = results.cv_results_['std_test_score']\n",
    "    for mean, std, params in zip(means, stds, results.cv_results_['params']):\n",
    "        print('{} (+/-{}) for {}'.format(round(mean, 3), round(std * 2, 3), params))"
   ]
  },
  {
   "cell_type": "code",
   "execution_count": 22,
   "id": "76870383",
   "metadata": {},
   "outputs": [
    {
     "name": "stderr",
     "output_type": "stream",
     "text": [
      "C:\\Users\\aksha\\anaconda3\\lib\\site-packages\\sklearn\\linear_model\\_logistic.py:458: ConvergenceWarning: lbfgs failed to converge (status=1):\n",
      "STOP: TOTAL NO. of ITERATIONS REACHED LIMIT.\n",
      "\n",
      "Increase the number of iterations (max_iter) or scale the data as shown in:\n",
      "    https://scikit-learn.org/stable/modules/preprocessing.html\n",
      "Please also refer to the documentation for alternative solver options:\n",
      "    https://scikit-learn.org/stable/modules/linear_model.html#logistic-regression\n",
      "  n_iter_i = _check_optimize_result(\n",
      "C:\\Users\\aksha\\anaconda3\\lib\\site-packages\\sklearn\\linear_model\\_logistic.py:458: ConvergenceWarning: lbfgs failed to converge (status=1):\n",
      "STOP: TOTAL NO. of ITERATIONS REACHED LIMIT.\n",
      "\n",
      "Increase the number of iterations (max_iter) or scale the data as shown in:\n",
      "    https://scikit-learn.org/stable/modules/preprocessing.html\n",
      "Please also refer to the documentation for alternative solver options:\n",
      "    https://scikit-learn.org/stable/modules/linear_model.html#logistic-regression\n",
      "  n_iter_i = _check_optimize_result(\n",
      "C:\\Users\\aksha\\anaconda3\\lib\\site-packages\\sklearn\\linear_model\\_logistic.py:458: ConvergenceWarning: lbfgs failed to converge (status=1):\n",
      "STOP: TOTAL NO. of ITERATIONS REACHED LIMIT.\n",
      "\n",
      "Increase the number of iterations (max_iter) or scale the data as shown in:\n",
      "    https://scikit-learn.org/stable/modules/preprocessing.html\n",
      "Please also refer to the documentation for alternative solver options:\n",
      "    https://scikit-learn.org/stable/modules/linear_model.html#logistic-regression\n",
      "  n_iter_i = _check_optimize_result(\n",
      "C:\\Users\\aksha\\anaconda3\\lib\\site-packages\\sklearn\\linear_model\\_logistic.py:458: ConvergenceWarning: lbfgs failed to converge (status=1):\n",
      "STOP: TOTAL NO. of ITERATIONS REACHED LIMIT.\n",
      "\n",
      "Increase the number of iterations (max_iter) or scale the data as shown in:\n",
      "    https://scikit-learn.org/stable/modules/preprocessing.html\n",
      "Please also refer to the documentation for alternative solver options:\n",
      "    https://scikit-learn.org/stable/modules/linear_model.html#logistic-regression\n",
      "  n_iter_i = _check_optimize_result(\n",
      "C:\\Users\\aksha\\anaconda3\\lib\\site-packages\\sklearn\\linear_model\\_logistic.py:458: ConvergenceWarning: lbfgs failed to converge (status=1):\n",
      "STOP: TOTAL NO. of ITERATIONS REACHED LIMIT.\n",
      "\n",
      "Increase the number of iterations (max_iter) or scale the data as shown in:\n",
      "    https://scikit-learn.org/stable/modules/preprocessing.html\n",
      "Please also refer to the documentation for alternative solver options:\n",
      "    https://scikit-learn.org/stable/modules/linear_model.html#logistic-regression\n",
      "  n_iter_i = _check_optimize_result(\n",
      "C:\\Users\\aksha\\anaconda3\\lib\\site-packages\\sklearn\\linear_model\\_logistic.py:458: ConvergenceWarning: lbfgs failed to converge (status=1):\n",
      "STOP: TOTAL NO. of ITERATIONS REACHED LIMIT.\n",
      "\n",
      "Increase the number of iterations (max_iter) or scale the data as shown in:\n",
      "    https://scikit-learn.org/stable/modules/preprocessing.html\n",
      "Please also refer to the documentation for alternative solver options:\n",
      "    https://scikit-learn.org/stable/modules/linear_model.html#logistic-regression\n",
      "  n_iter_i = _check_optimize_result(\n",
      "C:\\Users\\aksha\\anaconda3\\lib\\site-packages\\sklearn\\linear_model\\_logistic.py:458: ConvergenceWarning: lbfgs failed to converge (status=1):\n",
      "STOP: TOTAL NO. of ITERATIONS REACHED LIMIT.\n",
      "\n",
      "Increase the number of iterations (max_iter) or scale the data as shown in:\n",
      "    https://scikit-learn.org/stable/modules/preprocessing.html\n",
      "Please also refer to the documentation for alternative solver options:\n",
      "    https://scikit-learn.org/stable/modules/linear_model.html#logistic-regression\n",
      "  n_iter_i = _check_optimize_result(\n",
      "C:\\Users\\aksha\\anaconda3\\lib\\site-packages\\sklearn\\linear_model\\_logistic.py:458: ConvergenceWarning: lbfgs failed to converge (status=1):\n",
      "STOP: TOTAL NO. of ITERATIONS REACHED LIMIT.\n",
      "\n",
      "Increase the number of iterations (max_iter) or scale the data as shown in:\n",
      "    https://scikit-learn.org/stable/modules/preprocessing.html\n",
      "Please also refer to the documentation for alternative solver options:\n",
      "    https://scikit-learn.org/stable/modules/linear_model.html#logistic-regression\n",
      "  n_iter_i = _check_optimize_result(\n",
      "C:\\Users\\aksha\\anaconda3\\lib\\site-packages\\sklearn\\linear_model\\_logistic.py:458: ConvergenceWarning: lbfgs failed to converge (status=1):\n",
      "STOP: TOTAL NO. of ITERATIONS REACHED LIMIT.\n",
      "\n",
      "Increase the number of iterations (max_iter) or scale the data as shown in:\n",
      "    https://scikit-learn.org/stable/modules/preprocessing.html\n",
      "Please also refer to the documentation for alternative solver options:\n",
      "    https://scikit-learn.org/stable/modules/linear_model.html#logistic-regression\n",
      "  n_iter_i = _check_optimize_result(\n",
      "C:\\Users\\aksha\\anaconda3\\lib\\site-packages\\sklearn\\linear_model\\_logistic.py:458: ConvergenceWarning: lbfgs failed to converge (status=1):\n",
      "STOP: TOTAL NO. of ITERATIONS REACHED LIMIT.\n",
      "\n",
      "Increase the number of iterations (max_iter) or scale the data as shown in:\n",
      "    https://scikit-learn.org/stable/modules/preprocessing.html\n",
      "Please also refer to the documentation for alternative solver options:\n",
      "    https://scikit-learn.org/stable/modules/linear_model.html#logistic-regression\n",
      "  n_iter_i = _check_optimize_result(\n",
      "C:\\Users\\aksha\\anaconda3\\lib\\site-packages\\sklearn\\linear_model\\_logistic.py:458: ConvergenceWarning: lbfgs failed to converge (status=1):\n",
      "STOP: TOTAL NO. of ITERATIONS REACHED LIMIT.\n",
      "\n",
      "Increase the number of iterations (max_iter) or scale the data as shown in:\n",
      "    https://scikit-learn.org/stable/modules/preprocessing.html\n",
      "Please also refer to the documentation for alternative solver options:\n",
      "    https://scikit-learn.org/stable/modules/linear_model.html#logistic-regression\n",
      "  n_iter_i = _check_optimize_result(\n",
      "C:\\Users\\aksha\\anaconda3\\lib\\site-packages\\sklearn\\linear_model\\_logistic.py:458: ConvergenceWarning: lbfgs failed to converge (status=1):\n",
      "STOP: TOTAL NO. of ITERATIONS REACHED LIMIT.\n",
      "\n",
      "Increase the number of iterations (max_iter) or scale the data as shown in:\n",
      "    https://scikit-learn.org/stable/modules/preprocessing.html\n",
      "Please also refer to the documentation for alternative solver options:\n",
      "    https://scikit-learn.org/stable/modules/linear_model.html#logistic-regression\n",
      "  n_iter_i = _check_optimize_result(\n",
      "C:\\Users\\aksha\\anaconda3\\lib\\site-packages\\sklearn\\linear_model\\_logistic.py:458: ConvergenceWarning: lbfgs failed to converge (status=1):\n",
      "STOP: TOTAL NO. of ITERATIONS REACHED LIMIT.\n",
      "\n",
      "Increase the number of iterations (max_iter) or scale the data as shown in:\n",
      "    https://scikit-learn.org/stable/modules/preprocessing.html\n",
      "Please also refer to the documentation for alternative solver options:\n",
      "    https://scikit-learn.org/stable/modules/linear_model.html#logistic-regression\n",
      "  n_iter_i = _check_optimize_result(\n",
      "C:\\Users\\aksha\\anaconda3\\lib\\site-packages\\sklearn\\linear_model\\_logistic.py:458: ConvergenceWarning: lbfgs failed to converge (status=1):\n",
      "STOP: TOTAL NO. of ITERATIONS REACHED LIMIT.\n",
      "\n",
      "Increase the number of iterations (max_iter) or scale the data as shown in:\n",
      "    https://scikit-learn.org/stable/modules/preprocessing.html\n",
      "Please also refer to the documentation for alternative solver options:\n",
      "    https://scikit-learn.org/stable/modules/linear_model.html#logistic-regression\n",
      "  n_iter_i = _check_optimize_result(\n",
      "C:\\Users\\aksha\\anaconda3\\lib\\site-packages\\sklearn\\linear_model\\_logistic.py:458: ConvergenceWarning: lbfgs failed to converge (status=1):\n",
      "STOP: TOTAL NO. of ITERATIONS REACHED LIMIT.\n",
      "\n",
      "Increase the number of iterations (max_iter) or scale the data as shown in:\n",
      "    https://scikit-learn.org/stable/modules/preprocessing.html\n",
      "Please also refer to the documentation for alternative solver options:\n",
      "    https://scikit-learn.org/stable/modules/linear_model.html#logistic-regression\n",
      "  n_iter_i = _check_optimize_result(\n",
      "C:\\Users\\aksha\\anaconda3\\lib\\site-packages\\sklearn\\linear_model\\_logistic.py:458: ConvergenceWarning: lbfgs failed to converge (status=1):\n",
      "STOP: TOTAL NO. of ITERATIONS REACHED LIMIT.\n",
      "\n",
      "Increase the number of iterations (max_iter) or scale the data as shown in:\n",
      "    https://scikit-learn.org/stable/modules/preprocessing.html\n",
      "Please also refer to the documentation for alternative solver options:\n",
      "    https://scikit-learn.org/stable/modules/linear_model.html#logistic-regression\n",
      "  n_iter_i = _check_optimize_result(\n"
     ]
    },
    {
     "name": "stdout",
     "output_type": "stream",
     "text": [
      "BEST PARAMS: {'C': 1}\n",
      "\n",
      "0.622 (+/-0.333) for {'C': 0.001}\n",
      "0.833 (+/-0.199) for {'C': 0.01}\n",
      "0.911 (+/-0.166) for {'C': 0.1}\n",
      "0.944 (+/-0.172) for {'C': 1}\n",
      "0.944 (+/-0.122) for {'C': 10}\n",
      "0.944 (+/-0.172) for {'C': 100}\n",
      "0.944 (+/-0.172) for {'C': 1000}\n"
     ]
    },
    {
     "name": "stderr",
     "output_type": "stream",
     "text": [
      "C:\\Users\\aksha\\anaconda3\\lib\\site-packages\\sklearn\\linear_model\\_logistic.py:458: ConvergenceWarning: lbfgs failed to converge (status=1):\n",
      "STOP: TOTAL NO. of ITERATIONS REACHED LIMIT.\n",
      "\n",
      "Increase the number of iterations (max_iter) or scale the data as shown in:\n",
      "    https://scikit-learn.org/stable/modules/preprocessing.html\n",
      "Please also refer to the documentation for alternative solver options:\n",
      "    https://scikit-learn.org/stable/modules/linear_model.html#logistic-regression\n",
      "  n_iter_i = _check_optimize_result(\n",
      "C:\\Users\\aksha\\anaconda3\\lib\\site-packages\\sklearn\\linear_model\\_logistic.py:458: ConvergenceWarning: lbfgs failed to converge (status=1):\n",
      "STOP: TOTAL NO. of ITERATIONS REACHED LIMIT.\n",
      "\n",
      "Increase the number of iterations (max_iter) or scale the data as shown in:\n",
      "    https://scikit-learn.org/stable/modules/preprocessing.html\n",
      "Please also refer to the documentation for alternative solver options:\n",
      "    https://scikit-learn.org/stable/modules/linear_model.html#logistic-regression\n",
      "  n_iter_i = _check_optimize_result(\n"
     ]
    }
   ],
   "source": [
    "# Logistics Regression\n",
    "\n",
    "lr = LogisticRegression()\n",
    "parameters = {\n",
    "    'C': [0.001, 0.01, 0.1, 1, 10, 100, 1000]\n",
    "}\n",
    "\n",
    "cv = GridSearchCV(lr, parameters, cv=5)\n",
    "cv.fit(X_train, y_train.values.ravel())\n",
    "\n",
    "model_results(cv)"
   ]
  },
  {
   "cell_type": "code",
   "execution_count": 23,
   "id": "8b472121",
   "metadata": {},
   "outputs": [
    {
     "name": "stdout",
     "output_type": "stream",
     "text": [
      "LogisticRegression(C=1)\n"
     ]
    }
   ],
   "source": [
    "LR_models = cv.best_estimator_\n",
    "print(cv.best_estimator_)"
   ]
  },
  {
   "cell_type": "code",
   "execution_count": 24,
   "id": "628e1c8c",
   "metadata": {},
   "outputs": [
    {
     "name": "stdout",
     "output_type": "stream",
     "text": [
      "LR Validation Accuracy: 1.0\n"
     ]
    },
    {
     "data": {
      "text/plain": [
       "array([ True,  True,  True,  True,  True,  True,  True,  True,  True,\n",
       "        True,  True,  True,  True,  True,  True,  True,  True,  True,\n",
       "        True,  True,  True,  True,  True,  True,  True,  True,  True,\n",
       "        True,  True,  True])"
      ]
     },
     "execution_count": 24,
     "metadata": {},
     "output_type": "execute_result"
    }
   ],
   "source": [
    "# Validation Accuracy\n",
    "\n",
    "pred = LR_models.predict(X_val)\n",
    "accuracy = LR_models.score(X_val, y_val)\n",
    "print('LR Validation Accuracy: {}'.format(accuracy))\n",
    "\n",
    "pred == y_val.values.ravel()"
   ]
  },
  {
   "cell_type": "code",
   "execution_count": 25,
   "id": "4b06e163",
   "metadata": {},
   "outputs": [
    {
     "name": "stdout",
     "output_type": "stream",
     "text": [
      "LR Test Accuracy: 1.0\n"
     ]
    },
    {
     "data": {
      "text/plain": [
       "array([ True,  True,  True,  True,  True,  True,  True,  True,  True,\n",
       "        True,  True,  True,  True,  True,  True,  True,  True,  True,\n",
       "        True,  True,  True,  True,  True,  True,  True,  True,  True,\n",
       "        True,  True,  True])"
      ]
     },
     "execution_count": 25,
     "metadata": {},
     "output_type": "execute_result"
    }
   ],
   "source": [
    "# Test Accuracy\n",
    "\n",
    "pred = LR_models.predict(X_test)\n",
    "accuracy = LR_models.score(X_test, y_test)\n",
    "print('LR Test Accuracy: {}'.format(accuracy))\n",
    "\n",
    "pred == y_test.values.ravel()"
   ]
  },
  {
   "cell_type": "code",
   "execution_count": 26,
   "id": "5cf0a2fc",
   "metadata": {},
   "outputs": [
    {
     "data": {
      "text/plain": [
       "['LR60_model.pkl']"
      ]
     },
     "execution_count": 26,
     "metadata": {},
     "output_type": "execute_result"
    }
   ],
   "source": [
    "joblib.dump(LR_models, 'LR60_model.pkl')"
   ]
  },
  {
   "cell_type": "markdown",
   "id": "73fb4dbc",
   "metadata": {},
   "source": [
    "## Support Vector Machines"
   ]
  },
  {
   "cell_type": "code",
   "execution_count": 27,
   "id": "9fa9132f",
   "metadata": {},
   "outputs": [
    {
     "name": "stdout",
     "output_type": "stream",
     "text": [
      "BEST PARAMS: {'C': 1, 'kernel': 'linear'}\n",
      "\n",
      "0.922 (+/-0.113) for {'C': 0.1, 'kernel': 'linear'}\n",
      "0.8 (+/-0.218) for {'C': 0.1, 'kernel': 'rbf'}\n",
      "0.956 (+/-0.083) for {'C': 1, 'kernel': 'linear'}\n",
      "0.922 (+/-0.113) for {'C': 1, 'kernel': 'rbf'}\n",
      "0.933 (+/-0.109) for {'C': 10, 'kernel': 'linear'}\n",
      "0.944 (+/-0.07) for {'C': 10, 'kernel': 'rbf'}\n"
     ]
    }
   ],
   "source": [
    "svc = SVC()\n",
    "parameters = {\n",
    "    'kernel': ['linear', 'rbf'],\n",
    "    'C': [0.1, 1, 10]\n",
    "}\n",
    "\n",
    "cv = GridSearchCV(svc, parameters, cv=5)\n",
    "cv.fit(X_train, y_train.values.ravel())\n",
    "\n",
    "model_results(cv)"
   ]
  },
  {
   "cell_type": "code",
   "execution_count": 28,
   "id": "7700d505",
   "metadata": {},
   "outputs": [],
   "source": [
    "SVM_models = cv.best_estimator_"
   ]
  },
  {
   "cell_type": "code",
   "execution_count": 29,
   "id": "4245d2fe",
   "metadata": {},
   "outputs": [
    {
     "name": "stdout",
     "output_type": "stream",
     "text": [
      "SVM Validation Accuracy: 1.0\n"
     ]
    },
    {
     "data": {
      "text/plain": [
       "array([ True,  True,  True,  True,  True,  True,  True,  True,  True,\n",
       "        True,  True,  True,  True,  True,  True,  True,  True,  True,\n",
       "        True,  True,  True,  True,  True,  True,  True,  True,  True,\n",
       "        True,  True,  True])"
      ]
     },
     "execution_count": 29,
     "metadata": {},
     "output_type": "execute_result"
    }
   ],
   "source": [
    "# Validation Accuracy \n",
    "\n",
    "pred = SVM_models.predict(X_val)\n",
    "accuracy = SVM_models.score(X_val, y_val)\n",
    "print('SVM Validation Accuracy: {}'.format(accuracy))\n",
    "\n",
    "pred == y_val.values.ravel()"
   ]
  },
  {
   "cell_type": "code",
   "execution_count": 30,
   "id": "ea4a85de",
   "metadata": {},
   "outputs": [
    {
     "name": "stdout",
     "output_type": "stream",
     "text": [
      "SVM Test Accuracy : 1.0\n"
     ]
    },
    {
     "data": {
      "text/plain": [
       "array([ True,  True,  True,  True,  True,  True,  True,  True,  True,\n",
       "        True,  True,  True,  True,  True,  True,  True,  True,  True,\n",
       "        True,  True,  True,  True,  True,  True,  True,  True,  True,\n",
       "        True,  True,  True])"
      ]
     },
     "execution_count": 30,
     "metadata": {},
     "output_type": "execute_result"
    }
   ],
   "source": [
    "# Test Accuracy\n",
    "\n",
    "pred = SVM_models.predict(X_test)\n",
    "accuracy = SVM_models.score(X_test, y_test)\n",
    "print ('SVM Test Accuracy : {}'.format(accuracy))\n",
    "\n",
    "pred == y_test.values.ravel()"
   ]
  },
  {
   "cell_type": "code",
   "execution_count": 31,
   "id": "eb99631a",
   "metadata": {},
   "outputs": [
    {
     "data": {
      "text/plain": [
       "['SVM60_model.pkl']"
      ]
     },
     "execution_count": 31,
     "metadata": {},
     "output_type": "execute_result"
    }
   ],
   "source": [
    "joblib.dump(SVM_models, 'SVM60_model.pkl')"
   ]
  },
  {
   "cell_type": "markdown",
   "id": "8b1e8a2e",
   "metadata": {},
   "source": [
    "## Gradient Boosting "
   ]
  },
  {
   "cell_type": "code",
   "execution_count": 32,
   "id": "3d8d5ad9",
   "metadata": {},
   "outputs": [
    {
     "name": "stdout",
     "output_type": "stream",
     "text": [
      "BEST PARAMS: {'learning_rate': 0.01, 'max_depth': 1, 'n_estimators': 250}\n",
      "\n",
      "0.6 (+/-0.452) for {'learning_rate': 0.01, 'max_depth': 1, 'n_estimators': 5}\n",
      "0.9 (+/-0.191) for {'learning_rate': 0.01, 'max_depth': 1, 'n_estimators': 50}\n",
      "0.933 (+/-0.215) for {'learning_rate': 0.01, 'max_depth': 1, 'n_estimators': 250}\n",
      "0.922 (+/-0.206) for {'learning_rate': 0.01, 'max_depth': 1, 'n_estimators': 500}\n",
      "0.711 (+/-0.247) for {'learning_rate': 0.01, 'max_depth': 3, 'n_estimators': 5}\n",
      "0.889 (+/-0.172) for {'learning_rate': 0.01, 'max_depth': 3, 'n_estimators': 50}\n",
      "0.889 (+/-0.172) for {'learning_rate': 0.01, 'max_depth': 3, 'n_estimators': 250}\n",
      "0.9 (+/-0.191) for {'learning_rate': 0.01, 'max_depth': 3, 'n_estimators': 500}\n",
      "0.722 (+/-0.29) for {'learning_rate': 0.01, 'max_depth': 5, 'n_estimators': 5}\n",
      "0.911 (+/-0.194) for {'learning_rate': 0.01, 'max_depth': 5, 'n_estimators': 50}\n",
      "0.9 (+/-0.178) for {'learning_rate': 0.01, 'max_depth': 5, 'n_estimators': 250}\n",
      "0.911 (+/-0.194) for {'learning_rate': 0.01, 'max_depth': 5, 'n_estimators': 500}\n",
      "0.722 (+/-0.29) for {'learning_rate': 0.01, 'max_depth': 7, 'n_estimators': 5}\n",
      "0.922 (+/-0.206) for {'learning_rate': 0.01, 'max_depth': 7, 'n_estimators': 50}\n",
      "0.922 (+/-0.206) for {'learning_rate': 0.01, 'max_depth': 7, 'n_estimators': 250}\n",
      "0.922 (+/-0.206) for {'learning_rate': 0.01, 'max_depth': 7, 'n_estimators': 500}\n",
      "0.722 (+/-0.233) for {'learning_rate': 0.01, 'max_depth': 9, 'n_estimators': 5}\n",
      "0.922 (+/-0.206) for {'learning_rate': 0.01, 'max_depth': 9, 'n_estimators': 50}\n",
      "0.922 (+/-0.206) for {'learning_rate': 0.01, 'max_depth': 9, 'n_estimators': 250}\n",
      "0.922 (+/-0.206) for {'learning_rate': 0.01, 'max_depth': 9, 'n_estimators': 500}\n",
      "0.9 (+/-0.191) for {'learning_rate': 0.1, 'max_depth': 1, 'n_estimators': 5}\n",
      "0.922 (+/-0.206) for {'learning_rate': 0.1, 'max_depth': 1, 'n_estimators': 50}\n",
      "0.911 (+/-0.194) for {'learning_rate': 0.1, 'max_depth': 1, 'n_estimators': 250}\n",
      "0.9 (+/-0.191) for {'learning_rate': 0.1, 'max_depth': 1, 'n_estimators': 500}\n",
      "0.889 (+/-0.172) for {'learning_rate': 0.1, 'max_depth': 3, 'n_estimators': 5}\n",
      "0.9 (+/-0.191) for {'learning_rate': 0.1, 'max_depth': 3, 'n_estimators': 50}\n",
      "0.911 (+/-0.206) for {'learning_rate': 0.1, 'max_depth': 3, 'n_estimators': 250}\n",
      "0.911 (+/-0.206) for {'learning_rate': 0.1, 'max_depth': 3, 'n_estimators': 500}\n",
      "0.911 (+/-0.194) for {'learning_rate': 0.1, 'max_depth': 5, 'n_estimators': 5}\n",
      "0.9 (+/-0.178) for {'learning_rate': 0.1, 'max_depth': 5, 'n_estimators': 50}\n",
      "0.9 (+/-0.178) for {'learning_rate': 0.1, 'max_depth': 5, 'n_estimators': 250}\n",
      "0.911 (+/-0.194) for {'learning_rate': 0.1, 'max_depth': 5, 'n_estimators': 500}\n",
      "0.911 (+/-0.194) for {'learning_rate': 0.1, 'max_depth': 7, 'n_estimators': 5}\n",
      "0.922 (+/-0.206) for {'learning_rate': 0.1, 'max_depth': 7, 'n_estimators': 50}\n",
      "0.911 (+/-0.194) for {'learning_rate': 0.1, 'max_depth': 7, 'n_estimators': 250}\n",
      "0.911 (+/-0.194) for {'learning_rate': 0.1, 'max_depth': 7, 'n_estimators': 500}\n",
      "0.9 (+/-0.191) for {'learning_rate': 0.1, 'max_depth': 9, 'n_estimators': 5}\n",
      "0.922 (+/-0.206) for {'learning_rate': 0.1, 'max_depth': 9, 'n_estimators': 50}\n",
      "0.911 (+/-0.194) for {'learning_rate': 0.1, 'max_depth': 9, 'n_estimators': 250}\n",
      "0.911 (+/-0.194) for {'learning_rate': 0.1, 'max_depth': 9, 'n_estimators': 500}\n",
      "0.9 (+/-0.178) for {'learning_rate': 1, 'max_depth': 1, 'n_estimators': 5}\n",
      "0.9 (+/-0.178) for {'learning_rate': 1, 'max_depth': 1, 'n_estimators': 50}\n",
      "0.889 (+/-0.172) for {'learning_rate': 1, 'max_depth': 1, 'n_estimators': 250}\n",
      "0.889 (+/-0.172) for {'learning_rate': 1, 'max_depth': 1, 'n_estimators': 500}\n",
      "0.911 (+/-0.206) for {'learning_rate': 1, 'max_depth': 3, 'n_estimators': 5}\n",
      "0.9 (+/-0.191) for {'learning_rate': 1, 'max_depth': 3, 'n_estimators': 50}\n",
      "0.9 (+/-0.191) for {'learning_rate': 1, 'max_depth': 3, 'n_estimators': 250}\n",
      "0.9 (+/-0.191) for {'learning_rate': 1, 'max_depth': 3, 'n_estimators': 500}\n",
      "0.911 (+/-0.194) for {'learning_rate': 1, 'max_depth': 5, 'n_estimators': 5}\n",
      "0.911 (+/-0.194) for {'learning_rate': 1, 'max_depth': 5, 'n_estimators': 50}\n",
      "0.911 (+/-0.194) for {'learning_rate': 1, 'max_depth': 5, 'n_estimators': 250}\n",
      "0.911 (+/-0.194) for {'learning_rate': 1, 'max_depth': 5, 'n_estimators': 500}\n",
      "0.922 (+/-0.206) for {'learning_rate': 1, 'max_depth': 7, 'n_estimators': 5}\n",
      "0.922 (+/-0.206) for {'learning_rate': 1, 'max_depth': 7, 'n_estimators': 50}\n",
      "0.922 (+/-0.206) for {'learning_rate': 1, 'max_depth': 7, 'n_estimators': 250}\n",
      "0.922 (+/-0.206) for {'learning_rate': 1, 'max_depth': 7, 'n_estimators': 500}\n",
      "0.922 (+/-0.206) for {'learning_rate': 1, 'max_depth': 9, 'n_estimators': 5}\n",
      "0.922 (+/-0.206) for {'learning_rate': 1, 'max_depth': 9, 'n_estimators': 50}\n",
      "0.922 (+/-0.206) for {'learning_rate': 1, 'max_depth': 9, 'n_estimators': 250}\n",
      "0.922 (+/-0.206) for {'learning_rate': 1, 'max_depth': 9, 'n_estimators': 500}\n",
      "0.411 (+/-0.5) for {'learning_rate': 10, 'max_depth': 1, 'n_estimators': 5}\n",
      "0.411 (+/-0.5) for {'learning_rate': 10, 'max_depth': 1, 'n_estimators': 50}\n",
      "0.411 (+/-0.5) for {'learning_rate': 10, 'max_depth': 1, 'n_estimators': 250}\n",
      "0.411 (+/-0.5) for {'learning_rate': 10, 'max_depth': 1, 'n_estimators': 500}\n",
      "0.878 (+/-0.178) for {'learning_rate': 10, 'max_depth': 3, 'n_estimators': 5}\n",
      "0.9 (+/-0.191) for {'learning_rate': 10, 'max_depth': 3, 'n_estimators': 50}\n",
      "0.9 (+/-0.191) for {'learning_rate': 10, 'max_depth': 3, 'n_estimators': 250}\n",
      "0.9 (+/-0.191) for {'learning_rate': 10, 'max_depth': 3, 'n_estimators': 500}\n",
      "0.911 (+/-0.194) for {'learning_rate': 10, 'max_depth': 5, 'n_estimators': 5}\n",
      "0.911 (+/-0.194) for {'learning_rate': 10, 'max_depth': 5, 'n_estimators': 50}\n",
      "0.889 (+/-0.172) for {'learning_rate': 10, 'max_depth': 5, 'n_estimators': 250}\n",
      "0.9 (+/-0.178) for {'learning_rate': 10, 'max_depth': 5, 'n_estimators': 500}\n",
      "0.9 (+/-0.178) for {'learning_rate': 10, 'max_depth': 7, 'n_estimators': 5}\n",
      "0.922 (+/-0.206) for {'learning_rate': 10, 'max_depth': 7, 'n_estimators': 50}\n",
      "0.911 (+/-0.194) for {'learning_rate': 10, 'max_depth': 7, 'n_estimators': 250}\n",
      "0.911 (+/-0.194) for {'learning_rate': 10, 'max_depth': 7, 'n_estimators': 500}\n",
      "0.911 (+/-0.194) for {'learning_rate': 10, 'max_depth': 9, 'n_estimators': 5}\n",
      "0.9 (+/-0.191) for {'learning_rate': 10, 'max_depth': 9, 'n_estimators': 50}\n",
      "0.9 (+/-0.191) for {'learning_rate': 10, 'max_depth': 9, 'n_estimators': 250}\n",
      "0.911 (+/-0.194) for {'learning_rate': 10, 'max_depth': 9, 'n_estimators': 500}\n",
      "0.422 (+/-0.49) for {'learning_rate': 100, 'max_depth': 1, 'n_estimators': 5}\n",
      "0.422 (+/-0.49) for {'learning_rate': 100, 'max_depth': 1, 'n_estimators': 50}\n",
      "0.422 (+/-0.49) for {'learning_rate': 100, 'max_depth': 1, 'n_estimators': 250}\n",
      "0.422 (+/-0.49) for {'learning_rate': 100, 'max_depth': 1, 'n_estimators': 500}\n",
      "0.889 (+/-0.172) for {'learning_rate': 100, 'max_depth': 3, 'n_estimators': 5}\n",
      "0.889 (+/-0.172) for {'learning_rate': 100, 'max_depth': 3, 'n_estimators': 50}\n",
      "0.856 (+/-0.229) for {'learning_rate': 100, 'max_depth': 3, 'n_estimators': 250}\n",
      "0.856 (+/-0.229) for {'learning_rate': 100, 'max_depth': 3, 'n_estimators': 500}\n",
      "0.878 (+/-0.178) for {'learning_rate': 100, 'max_depth': 5, 'n_estimators': 5}\n",
      "0.867 (+/-0.166) for {'learning_rate': 100, 'max_depth': 5, 'n_estimators': 50}\n",
      "0.867 (+/-0.166) for {'learning_rate': 100, 'max_depth': 5, 'n_estimators': 250}\n",
      "0.867 (+/-0.166) for {'learning_rate': 100, 'max_depth': 5, 'n_estimators': 500}\n",
      "0.878 (+/-0.178) for {'learning_rate': 100, 'max_depth': 7, 'n_estimators': 5}\n",
      "0.889 (+/-0.172) for {'learning_rate': 100, 'max_depth': 7, 'n_estimators': 50}\n",
      "0.889 (+/-0.172) for {'learning_rate': 100, 'max_depth': 7, 'n_estimators': 250}\n",
      "0.856 (+/-0.181) for {'learning_rate': 100, 'max_depth': 7, 'n_estimators': 500}\n",
      "0.878 (+/-0.178) for {'learning_rate': 100, 'max_depth': 9, 'n_estimators': 5}\n",
      "0.867 (+/-0.194) for {'learning_rate': 100, 'max_depth': 9, 'n_estimators': 50}\n",
      "0.867 (+/-0.194) for {'learning_rate': 100, 'max_depth': 9, 'n_estimators': 250}\n",
      "0.856 (+/-0.181) for {'learning_rate': 100, 'max_depth': 9, 'n_estimators': 500}\n"
     ]
    }
   ],
   "source": [
    "gb = GradientBoostingClassifier()\n",
    "parameters = {\n",
    "    'n_estimators': [5, 50, 250, 500],\n",
    "    'max_depth': [1, 3, 5, 7, 9],\n",
    "    'learning_rate': [0.01, 0.1, 1, 10, 100]\n",
    "}\n",
    "\n",
    "cv = GridSearchCV(gb, parameters, cv=5)\n",
    "cv.fit(X_train, y_train.values.ravel())\n",
    "\n",
    "model_results(cv)"
   ]
  },
  {
   "cell_type": "code",
   "execution_count": 33,
   "id": "8d5aa371",
   "metadata": {},
   "outputs": [],
   "source": [
    "GB_models = cv.best_estimator_"
   ]
  },
  {
   "cell_type": "code",
   "execution_count": 34,
   "id": "65d8b519",
   "metadata": {},
   "outputs": [
    {
     "name": "stdout",
     "output_type": "stream",
     "text": [
      "Gradient Boosting Validation Accuracy : 0.9666666666666667\n"
     ]
    },
    {
     "data": {
      "text/plain": [
       "array([ True,  True,  True,  True,  True,  True,  True,  True,  True,\n",
       "        True,  True,  True,  True,  True,  True,  True,  True,  True,\n",
       "        True,  True,  True,  True,  True,  True,  True, False,  True,\n",
       "        True,  True,  True])"
      ]
     },
     "execution_count": 34,
     "metadata": {},
     "output_type": "execute_result"
    }
   ],
   "source": [
    "# Validation Accuracy\n",
    "\n",
    "pred = GB_models.predict(X_val)\n",
    "accuracy = GB_models.score(X_val, y_val)\n",
    "print ('Gradient Boosting Validation Accuracy : {}'.format(accuracy))\n",
    "\n",
    "pred == y_val.values.ravel()"
   ]
  },
  {
   "cell_type": "code",
   "execution_count": 35,
   "id": "7a9a0f8f",
   "metadata": {},
   "outputs": [
    {
     "name": "stdout",
     "output_type": "stream",
     "text": [
      "Gradient Boosting Test Accuracy : 1.0\n"
     ]
    },
    {
     "data": {
      "text/plain": [
       "array([ True,  True,  True,  True,  True,  True,  True,  True,  True,\n",
       "        True,  True,  True,  True,  True,  True,  True,  True,  True,\n",
       "        True,  True,  True,  True,  True,  True,  True,  True,  True,\n",
       "        True,  True,  True])"
      ]
     },
     "execution_count": 35,
     "metadata": {},
     "output_type": "execute_result"
    }
   ],
   "source": [
    "# Test Accuracy\n",
    "\n",
    "pred = GB_models.predict(X_test)\n",
    "accuracy = GB_models.score(X_test, y_test)\n",
    "print ('Gradient Boosting Test Accuracy : {}'.format(accuracy))\n",
    "\n",
    "pred == y_test.values.ravel()"
   ]
  },
  {
   "cell_type": "code",
   "execution_count": 36,
   "id": "ed742b53",
   "metadata": {},
   "outputs": [
    {
     "data": {
      "text/plain": [
       "['GB60_model.pkl']"
      ]
     },
     "execution_count": 36,
     "metadata": {},
     "output_type": "execute_result"
    }
   ],
   "source": [
    "joblib.dump(GB_models, 'GB60_model.pkl')"
   ]
  },
  {
   "cell_type": "markdown",
   "id": "763f8d6c",
   "metadata": {},
   "source": [
    "# Train, Test and Validation split (80, 10, 10)"
   ]
  },
  {
   "cell_type": "code",
   "execution_count": 37,
   "id": "3bede600",
   "metadata": {},
   "outputs": [],
   "source": [
    "features = df.drop(columns=['variety'])\n",
    "labels = df['variety']\n",
    "\n",
    "X_train, X_test, y_train, y_test = train_test_split(features, labels, test_size=0.2)\n",
    "X_test, X_val, y_test, y_val = train_test_split(X_test, y_test, test_size=0.5)"
   ]
  },
  {
   "cell_type": "markdown",
   "id": "1668457f",
   "metadata": {},
   "source": [
    "## Logistic Regression"
   ]
  },
  {
   "cell_type": "code",
   "execution_count": 38,
   "id": "7e75d266",
   "metadata": {},
   "outputs": [
    {
     "name": "stderr",
     "output_type": "stream",
     "text": [
      "C:\\Users\\aksha\\anaconda3\\lib\\site-packages\\sklearn\\linear_model\\_logistic.py:458: ConvergenceWarning: lbfgs failed to converge (status=1):\n",
      "STOP: TOTAL NO. of ITERATIONS REACHED LIMIT.\n",
      "\n",
      "Increase the number of iterations (max_iter) or scale the data as shown in:\n",
      "    https://scikit-learn.org/stable/modules/preprocessing.html\n",
      "Please also refer to the documentation for alternative solver options:\n",
      "    https://scikit-learn.org/stable/modules/linear_model.html#logistic-regression\n",
      "  n_iter_i = _check_optimize_result(\n",
      "C:\\Users\\aksha\\anaconda3\\lib\\site-packages\\sklearn\\linear_model\\_logistic.py:458: ConvergenceWarning: lbfgs failed to converge (status=1):\n",
      "STOP: TOTAL NO. of ITERATIONS REACHED LIMIT.\n",
      "\n",
      "Increase the number of iterations (max_iter) or scale the data as shown in:\n",
      "    https://scikit-learn.org/stable/modules/preprocessing.html\n",
      "Please also refer to the documentation for alternative solver options:\n",
      "    https://scikit-learn.org/stable/modules/linear_model.html#logistic-regression\n",
      "  n_iter_i = _check_optimize_result(\n",
      "C:\\Users\\aksha\\anaconda3\\lib\\site-packages\\sklearn\\linear_model\\_logistic.py:458: ConvergenceWarning: lbfgs failed to converge (status=1):\n",
      "STOP: TOTAL NO. of ITERATIONS REACHED LIMIT.\n",
      "\n",
      "Increase the number of iterations (max_iter) or scale the data as shown in:\n",
      "    https://scikit-learn.org/stable/modules/preprocessing.html\n",
      "Please also refer to the documentation for alternative solver options:\n",
      "    https://scikit-learn.org/stable/modules/linear_model.html#logistic-regression\n",
      "  n_iter_i = _check_optimize_result(\n",
      "C:\\Users\\aksha\\anaconda3\\lib\\site-packages\\sklearn\\linear_model\\_logistic.py:458: ConvergenceWarning: lbfgs failed to converge (status=1):\n",
      "STOP: TOTAL NO. of ITERATIONS REACHED LIMIT.\n",
      "\n",
      "Increase the number of iterations (max_iter) or scale the data as shown in:\n",
      "    https://scikit-learn.org/stable/modules/preprocessing.html\n",
      "Please also refer to the documentation for alternative solver options:\n",
      "    https://scikit-learn.org/stable/modules/linear_model.html#logistic-regression\n",
      "  n_iter_i = _check_optimize_result(\n",
      "C:\\Users\\aksha\\anaconda3\\lib\\site-packages\\sklearn\\linear_model\\_logistic.py:458: ConvergenceWarning: lbfgs failed to converge (status=1):\n",
      "STOP: TOTAL NO. of ITERATIONS REACHED LIMIT.\n",
      "\n",
      "Increase the number of iterations (max_iter) or scale the data as shown in:\n",
      "    https://scikit-learn.org/stable/modules/preprocessing.html\n",
      "Please also refer to the documentation for alternative solver options:\n",
      "    https://scikit-learn.org/stable/modules/linear_model.html#logistic-regression\n",
      "  n_iter_i = _check_optimize_result(\n",
      "C:\\Users\\aksha\\anaconda3\\lib\\site-packages\\sklearn\\linear_model\\_logistic.py:458: ConvergenceWarning: lbfgs failed to converge (status=1):\n",
      "STOP: TOTAL NO. of ITERATIONS REACHED LIMIT.\n",
      "\n",
      "Increase the number of iterations (max_iter) or scale the data as shown in:\n",
      "    https://scikit-learn.org/stable/modules/preprocessing.html\n",
      "Please also refer to the documentation for alternative solver options:\n",
      "    https://scikit-learn.org/stable/modules/linear_model.html#logistic-regression\n",
      "  n_iter_i = _check_optimize_result(\n",
      "C:\\Users\\aksha\\anaconda3\\lib\\site-packages\\sklearn\\linear_model\\_logistic.py:458: ConvergenceWarning: lbfgs failed to converge (status=1):\n",
      "STOP: TOTAL NO. of ITERATIONS REACHED LIMIT.\n",
      "\n",
      "Increase the number of iterations (max_iter) or scale the data as shown in:\n",
      "    https://scikit-learn.org/stable/modules/preprocessing.html\n",
      "Please also refer to the documentation for alternative solver options:\n",
      "    https://scikit-learn.org/stable/modules/linear_model.html#logistic-regression\n",
      "  n_iter_i = _check_optimize_result(\n",
      "C:\\Users\\aksha\\anaconda3\\lib\\site-packages\\sklearn\\linear_model\\_logistic.py:458: ConvergenceWarning: lbfgs failed to converge (status=1):\n",
      "STOP: TOTAL NO. of ITERATIONS REACHED LIMIT.\n",
      "\n",
      "Increase the number of iterations (max_iter) or scale the data as shown in:\n",
      "    https://scikit-learn.org/stable/modules/preprocessing.html\n",
      "Please also refer to the documentation for alternative solver options:\n",
      "    https://scikit-learn.org/stable/modules/linear_model.html#logistic-regression\n",
      "  n_iter_i = _check_optimize_result(\n",
      "C:\\Users\\aksha\\anaconda3\\lib\\site-packages\\sklearn\\linear_model\\_logistic.py:458: ConvergenceWarning: lbfgs failed to converge (status=1):\n",
      "STOP: TOTAL NO. of ITERATIONS REACHED LIMIT.\n",
      "\n",
      "Increase the number of iterations (max_iter) or scale the data as shown in:\n",
      "    https://scikit-learn.org/stable/modules/preprocessing.html\n",
      "Please also refer to the documentation for alternative solver options:\n",
      "    https://scikit-learn.org/stable/modules/linear_model.html#logistic-regression\n",
      "  n_iter_i = _check_optimize_result(\n",
      "C:\\Users\\aksha\\anaconda3\\lib\\site-packages\\sklearn\\linear_model\\_logistic.py:458: ConvergenceWarning: lbfgs failed to converge (status=1):\n",
      "STOP: TOTAL NO. of ITERATIONS REACHED LIMIT.\n",
      "\n",
      "Increase the number of iterations (max_iter) or scale the data as shown in:\n",
      "    https://scikit-learn.org/stable/modules/preprocessing.html\n",
      "Please also refer to the documentation for alternative solver options:\n",
      "    https://scikit-learn.org/stable/modules/linear_model.html#logistic-regression\n",
      "  n_iter_i = _check_optimize_result(\n",
      "C:\\Users\\aksha\\anaconda3\\lib\\site-packages\\sklearn\\linear_model\\_logistic.py:458: ConvergenceWarning: lbfgs failed to converge (status=1):\n",
      "STOP: TOTAL NO. of ITERATIONS REACHED LIMIT.\n",
      "\n",
      "Increase the number of iterations (max_iter) or scale the data as shown in:\n",
      "    https://scikit-learn.org/stable/modules/preprocessing.html\n",
      "Please also refer to the documentation for alternative solver options:\n",
      "    https://scikit-learn.org/stable/modules/linear_model.html#logistic-regression\n",
      "  n_iter_i = _check_optimize_result(\n",
      "C:\\Users\\aksha\\anaconda3\\lib\\site-packages\\sklearn\\linear_model\\_logistic.py:458: ConvergenceWarning: lbfgs failed to converge (status=1):\n",
      "STOP: TOTAL NO. of ITERATIONS REACHED LIMIT.\n",
      "\n",
      "Increase the number of iterations (max_iter) or scale the data as shown in:\n",
      "    https://scikit-learn.org/stable/modules/preprocessing.html\n",
      "Please also refer to the documentation for alternative solver options:\n",
      "    https://scikit-learn.org/stable/modules/linear_model.html#logistic-regression\n",
      "  n_iter_i = _check_optimize_result(\n",
      "C:\\Users\\aksha\\anaconda3\\lib\\site-packages\\sklearn\\linear_model\\_logistic.py:458: ConvergenceWarning: lbfgs failed to converge (status=1):\n",
      "STOP: TOTAL NO. of ITERATIONS REACHED LIMIT.\n",
      "\n",
      "Increase the number of iterations (max_iter) or scale the data as shown in:\n",
      "    https://scikit-learn.org/stable/modules/preprocessing.html\n",
      "Please also refer to the documentation for alternative solver options:\n",
      "    https://scikit-learn.org/stable/modules/linear_model.html#logistic-regression\n",
      "  n_iter_i = _check_optimize_result(\n",
      "C:\\Users\\aksha\\anaconda3\\lib\\site-packages\\sklearn\\linear_model\\_logistic.py:458: ConvergenceWarning: lbfgs failed to converge (status=1):\n",
      "STOP: TOTAL NO. of ITERATIONS REACHED LIMIT.\n",
      "\n",
      "Increase the number of iterations (max_iter) or scale the data as shown in:\n",
      "    https://scikit-learn.org/stable/modules/preprocessing.html\n",
      "Please also refer to the documentation for alternative solver options:\n",
      "    https://scikit-learn.org/stable/modules/linear_model.html#logistic-regression\n",
      "  n_iter_i = _check_optimize_result(\n",
      "C:\\Users\\aksha\\anaconda3\\lib\\site-packages\\sklearn\\linear_model\\_logistic.py:458: ConvergenceWarning: lbfgs failed to converge (status=1):\n",
      "STOP: TOTAL NO. of ITERATIONS REACHED LIMIT.\n",
      "\n",
      "Increase the number of iterations (max_iter) or scale the data as shown in:\n",
      "    https://scikit-learn.org/stable/modules/preprocessing.html\n",
      "Please also refer to the documentation for alternative solver options:\n",
      "    https://scikit-learn.org/stable/modules/linear_model.html#logistic-regression\n",
      "  n_iter_i = _check_optimize_result(\n"
     ]
    },
    {
     "name": "stdout",
     "output_type": "stream",
     "text": [
      "BEST PARAMS: {'C': 10}\n",
      "\n",
      "0.683 (+/-0.041) for {'C': 0.001}\n",
      "0.833 (+/-0.053) for {'C': 0.01}\n",
      "0.933 (+/-0.113) for {'C': 0.1}\n",
      "0.967 (+/-0.062) for {'C': 1}\n",
      "0.967 (+/-0.062) for {'C': 10}\n",
      "0.967 (+/-0.062) for {'C': 100}\n",
      "0.95 (+/-0.097) for {'C': 1000}\n"
     ]
    },
    {
     "name": "stderr",
     "output_type": "stream",
     "text": [
      "C:\\Users\\aksha\\anaconda3\\lib\\site-packages\\sklearn\\linear_model\\_logistic.py:458: ConvergenceWarning: lbfgs failed to converge (status=1):\n",
      "STOP: TOTAL NO. of ITERATIONS REACHED LIMIT.\n",
      "\n",
      "Increase the number of iterations (max_iter) or scale the data as shown in:\n",
      "    https://scikit-learn.org/stable/modules/preprocessing.html\n",
      "Please also refer to the documentation for alternative solver options:\n",
      "    https://scikit-learn.org/stable/modules/linear_model.html#logistic-regression\n",
      "  n_iter_i = _check_optimize_result(\n",
      "C:\\Users\\aksha\\anaconda3\\lib\\site-packages\\sklearn\\linear_model\\_logistic.py:458: ConvergenceWarning: lbfgs failed to converge (status=1):\n",
      "STOP: TOTAL NO. of ITERATIONS REACHED LIMIT.\n",
      "\n",
      "Increase the number of iterations (max_iter) or scale the data as shown in:\n",
      "    https://scikit-learn.org/stable/modules/preprocessing.html\n",
      "Please also refer to the documentation for alternative solver options:\n",
      "    https://scikit-learn.org/stable/modules/linear_model.html#logistic-regression\n",
      "  n_iter_i = _check_optimize_result(\n",
      "C:\\Users\\aksha\\anaconda3\\lib\\site-packages\\sklearn\\linear_model\\_logistic.py:458: ConvergenceWarning: lbfgs failed to converge (status=1):\n",
      "STOP: TOTAL NO. of ITERATIONS REACHED LIMIT.\n",
      "\n",
      "Increase the number of iterations (max_iter) or scale the data as shown in:\n",
      "    https://scikit-learn.org/stable/modules/preprocessing.html\n",
      "Please also refer to the documentation for alternative solver options:\n",
      "    https://scikit-learn.org/stable/modules/linear_model.html#logistic-regression\n",
      "  n_iter_i = _check_optimize_result(\n"
     ]
    }
   ],
   "source": [
    "# Logistics Regression\n",
    "\n",
    "lr = LogisticRegression()\n",
    "parameters = {\n",
    "    'C': [0.001, 0.01, 0.1, 1, 10, 100, 1000]\n",
    "}\n",
    "\n",
    "cv = GridSearchCV(lr, parameters, cv=5)\n",
    "cv.fit(X_train, y_train.values.ravel())\n",
    "\n",
    "model_results(cv)"
   ]
  },
  {
   "cell_type": "code",
   "execution_count": 39,
   "id": "fba9a554",
   "metadata": {},
   "outputs": [],
   "source": [
    "LR_models = cv.best_estimator_"
   ]
  },
  {
   "cell_type": "code",
   "execution_count": 40,
   "id": "ea4bf86d",
   "metadata": {},
   "outputs": [
    {
     "name": "stdout",
     "output_type": "stream",
     "text": [
      "LR Validation Accuracy: 0.9333333333333333\n"
     ]
    },
    {
     "data": {
      "text/plain": [
       "array([ True,  True,  True,  True,  True,  True, False,  True,  True,\n",
       "        True,  True,  True,  True,  True,  True])"
      ]
     },
     "execution_count": 40,
     "metadata": {},
     "output_type": "execute_result"
    }
   ],
   "source": [
    "# Validation Accuracy\n",
    "\n",
    "pred = LR_models.predict(X_val)\n",
    "accuracy = LR_models.score(X_val, y_val)\n",
    "print('LR Validation Accuracy: {}'.format(accuracy))\n",
    "\n",
    "pred == y_val.values.ravel()"
   ]
  },
  {
   "cell_type": "code",
   "execution_count": 41,
   "id": "6c736d55",
   "metadata": {},
   "outputs": [
    {
     "name": "stdout",
     "output_type": "stream",
     "text": [
      "LR Test Accuracy: 0.9333333333333333\n"
     ]
    },
    {
     "data": {
      "text/plain": [
       "array([ True,  True,  True,  True,  True,  True,  True,  True,  True,\n",
       "        True, False,  True,  True,  True,  True])"
      ]
     },
     "execution_count": 41,
     "metadata": {},
     "output_type": "execute_result"
    }
   ],
   "source": [
    "# Test Accuracy\n",
    "\n",
    "pred = LR_models.predict(X_test)\n",
    "accuracy = LR_models.score(X_test, y_test)\n",
    "print('LR Test Accuracy: {}'.format(accuracy))\n",
    "\n",
    "pred == y_test.values.ravel()"
   ]
  },
  {
   "cell_type": "code",
   "execution_count": 42,
   "id": "963d1abe",
   "metadata": {},
   "outputs": [
    {
     "data": {
      "text/plain": [
       "['LR80_model.pkl']"
      ]
     },
     "execution_count": 42,
     "metadata": {},
     "output_type": "execute_result"
    }
   ],
   "source": [
    "joblib.dump(LR_models, 'LR80_model.pkl')"
   ]
  },
  {
   "cell_type": "markdown",
   "id": "905824b0",
   "metadata": {},
   "source": [
    "## Support Vector Machines"
   ]
  },
  {
   "cell_type": "code",
   "execution_count": 43,
   "id": "6b90f11b",
   "metadata": {},
   "outputs": [
    {
     "name": "stdout",
     "output_type": "stream",
     "text": [
      "BEST PARAMS: {'C': 1, 'kernel': 'linear'}\n",
      "\n",
      "0.95 (+/-0.097) for {'C': 0.1, 'kernel': 'linear'}\n",
      "0.892 (+/-0.085) for {'C': 0.1, 'kernel': 'rbf'}\n",
      "0.975 (+/-0.041) for {'C': 1, 'kernel': 'linear'}\n",
      "0.95 (+/-0.097) for {'C': 1, 'kernel': 'rbf'}\n",
      "0.975 (+/-0.041) for {'C': 10, 'kernel': 'linear'}\n",
      "0.975 (+/-0.041) for {'C': 10, 'kernel': 'rbf'}\n"
     ]
    }
   ],
   "source": [
    "svc = SVC()\n",
    "parameters = {\n",
    "    'kernel': ['linear', 'rbf'],\n",
    "    'C': [0.1, 1, 10]\n",
    "}\n",
    "\n",
    "cv = GridSearchCV(svc, parameters, cv=5)\n",
    "cv.fit(X_train, y_train.values.ravel())\n",
    "\n",
    "model_results(cv)"
   ]
  },
  {
   "cell_type": "code",
   "execution_count": 44,
   "id": "d7adabaa",
   "metadata": {},
   "outputs": [],
   "source": [
    "SVM_models = cv.best_estimator_"
   ]
  },
  {
   "cell_type": "code",
   "execution_count": 45,
   "id": "d807bab7",
   "metadata": {},
   "outputs": [
    {
     "name": "stdout",
     "output_type": "stream",
     "text": [
      "SVM Validation Accuracy: 1.0\n"
     ]
    },
    {
     "data": {
      "text/plain": [
       "array([ True,  True,  True,  True,  True,  True,  True,  True,  True,\n",
       "        True,  True,  True,  True,  True,  True])"
      ]
     },
     "execution_count": 45,
     "metadata": {},
     "output_type": "execute_result"
    }
   ],
   "source": [
    "# Validation Accuracy\n",
    "\n",
    "pred = SVM_models.predict(X_val)\n",
    "accuracy = SVM_models.score(X_val, y_val)\n",
    "print('SVM Validation Accuracy: {}'.format(accuracy))\n",
    "\n",
    "pred == y_val.values.ravel()"
   ]
  },
  {
   "cell_type": "code",
   "execution_count": 46,
   "id": "0522a072",
   "metadata": {},
   "outputs": [
    {
     "name": "stdout",
     "output_type": "stream",
     "text": [
      "SVM Test Accuracy: 0.9333333333333333\n"
     ]
    },
    {
     "data": {
      "text/plain": [
       "array([ True,  True,  True,  True,  True,  True,  True,  True,  True,\n",
       "        True, False,  True,  True,  True,  True])"
      ]
     },
     "execution_count": 46,
     "metadata": {},
     "output_type": "execute_result"
    }
   ],
   "source": [
    "# Test Accuracy\n",
    "\n",
    "pred = SVM_models.predict(X_test)\n",
    "accuracy = SVM_models.score(X_test, y_test)\n",
    "print('SVM Test Accuracy: {}'.format(accuracy))\n",
    "\n",
    "pred == y_test.values.ravel()"
   ]
  },
  {
   "cell_type": "code",
   "execution_count": 47,
   "id": "36dd0c20",
   "metadata": {},
   "outputs": [
    {
     "data": {
      "text/plain": [
       "['SVM80_model.pkl']"
      ]
     },
     "execution_count": 47,
     "metadata": {},
     "output_type": "execute_result"
    }
   ],
   "source": [
    "joblib.dump(SVM_models, 'SVM80_model.pkl')"
   ]
  },
  {
   "cell_type": "markdown",
   "id": "50334693",
   "metadata": {},
   "source": [
    "## Gradient Boosting"
   ]
  },
  {
   "cell_type": "code",
   "execution_count": 48,
   "id": "092b885c",
   "metadata": {},
   "outputs": [
    {
     "name": "stdout",
     "output_type": "stream",
     "text": [
      "BEST PARAMS: {'learning_rate': 1, 'max_depth': 1, 'n_estimators': 50}\n",
      "\n",
      "0.467 (+/-0.266) for {'learning_rate': 0.01, 'max_depth': 1, 'n_estimators': 5}\n",
      "0.942 (+/-0.067) for {'learning_rate': 0.01, 'max_depth': 1, 'n_estimators': 50}\n",
      "0.967 (+/-0.062) for {'learning_rate': 0.01, 'max_depth': 1, 'n_estimators': 250}\n",
      "0.95 (+/-0.062) for {'learning_rate': 0.01, 'max_depth': 1, 'n_estimators': 500}\n",
      "0.783 (+/-0.464) for {'learning_rate': 0.01, 'max_depth': 3, 'n_estimators': 5}\n",
      "0.95 (+/-0.062) for {'learning_rate': 0.01, 'max_depth': 3, 'n_estimators': 50}\n",
      "0.942 (+/-0.067) for {'learning_rate': 0.01, 'max_depth': 3, 'n_estimators': 250}\n",
      "0.933 (+/-0.085) for {'learning_rate': 0.01, 'max_depth': 3, 'n_estimators': 500}\n",
      "0.8 (+/-0.47) for {'learning_rate': 0.01, 'max_depth': 5, 'n_estimators': 5}\n",
      "0.933 (+/-0.085) for {'learning_rate': 0.01, 'max_depth': 5, 'n_estimators': 50}\n",
      "0.942 (+/-0.067) for {'learning_rate': 0.01, 'max_depth': 5, 'n_estimators': 250}\n",
      "0.933 (+/-0.085) for {'learning_rate': 0.01, 'max_depth': 5, 'n_estimators': 500}\n",
      "0.8 (+/-0.47) for {'learning_rate': 0.01, 'max_depth': 7, 'n_estimators': 5}\n",
      "0.95 (+/-0.062) for {'learning_rate': 0.01, 'max_depth': 7, 'n_estimators': 50}\n",
      "0.942 (+/-0.067) for {'learning_rate': 0.01, 'max_depth': 7, 'n_estimators': 250}\n",
      "0.942 (+/-0.067) for {'learning_rate': 0.01, 'max_depth': 7, 'n_estimators': 500}\n",
      "0.8 (+/-0.47) for {'learning_rate': 0.01, 'max_depth': 9, 'n_estimators': 5}\n",
      "0.933 (+/-0.085) for {'learning_rate': 0.01, 'max_depth': 9, 'n_estimators': 50}\n",
      "0.95 (+/-0.062) for {'learning_rate': 0.01, 'max_depth': 9, 'n_estimators': 250}\n",
      "0.95 (+/-0.062) for {'learning_rate': 0.01, 'max_depth': 9, 'n_estimators': 500}\n",
      "0.942 (+/-0.067) for {'learning_rate': 0.1, 'max_depth': 1, 'n_estimators': 5}\n",
      "0.95 (+/-0.062) for {'learning_rate': 0.1, 'max_depth': 1, 'n_estimators': 50}\n",
      "0.933 (+/-0.085) for {'learning_rate': 0.1, 'max_depth': 1, 'n_estimators': 250}\n",
      "0.942 (+/-0.067) for {'learning_rate': 0.1, 'max_depth': 1, 'n_estimators': 500}\n",
      "0.942 (+/-0.067) for {'learning_rate': 0.1, 'max_depth': 3, 'n_estimators': 5}\n",
      "0.933 (+/-0.085) for {'learning_rate': 0.1, 'max_depth': 3, 'n_estimators': 50}\n",
      "0.933 (+/-0.085) for {'learning_rate': 0.1, 'max_depth': 3, 'n_estimators': 250}\n",
      "0.933 (+/-0.085) for {'learning_rate': 0.1, 'max_depth': 3, 'n_estimators': 500}\n",
      "0.942 (+/-0.067) for {'learning_rate': 0.1, 'max_depth': 5, 'n_estimators': 5}\n",
      "0.95 (+/-0.062) for {'learning_rate': 0.1, 'max_depth': 5, 'n_estimators': 50}\n",
      "0.942 (+/-0.067) for {'learning_rate': 0.1, 'max_depth': 5, 'n_estimators': 250}\n",
      "0.933 (+/-0.085) for {'learning_rate': 0.1, 'max_depth': 5, 'n_estimators': 500}\n",
      "0.95 (+/-0.062) for {'learning_rate': 0.1, 'max_depth': 7, 'n_estimators': 5}\n",
      "0.942 (+/-0.067) for {'learning_rate': 0.1, 'max_depth': 7, 'n_estimators': 50}\n",
      "0.95 (+/-0.062) for {'learning_rate': 0.1, 'max_depth': 7, 'n_estimators': 250}\n",
      "0.95 (+/-0.062) for {'learning_rate': 0.1, 'max_depth': 7, 'n_estimators': 500}\n",
      "0.958 (+/-0.053) for {'learning_rate': 0.1, 'max_depth': 9, 'n_estimators': 5}\n",
      "0.933 (+/-0.085) for {'learning_rate': 0.1, 'max_depth': 9, 'n_estimators': 50}\n",
      "0.942 (+/-0.067) for {'learning_rate': 0.1, 'max_depth': 9, 'n_estimators': 250}\n",
      "0.942 (+/-0.067) for {'learning_rate': 0.1, 'max_depth': 9, 'n_estimators': 500}\n",
      "0.942 (+/-0.085) for {'learning_rate': 1, 'max_depth': 1, 'n_estimators': 5}\n",
      "0.967 (+/-0.062) for {'learning_rate': 1, 'max_depth': 1, 'n_estimators': 50}\n",
      "0.95 (+/-0.062) for {'learning_rate': 1, 'max_depth': 1, 'n_estimators': 250}\n",
      "0.95 (+/-0.062) for {'learning_rate': 1, 'max_depth': 1, 'n_estimators': 500}\n",
      "0.933 (+/-0.085) for {'learning_rate': 1, 'max_depth': 3, 'n_estimators': 5}\n",
      "0.925 (+/-0.111) for {'learning_rate': 1, 'max_depth': 3, 'n_estimators': 50}\n",
      "0.933 (+/-0.041) for {'learning_rate': 1, 'max_depth': 3, 'n_estimators': 250}\n",
      "0.942 (+/-0.067) for {'learning_rate': 1, 'max_depth': 3, 'n_estimators': 500}\n",
      "0.933 (+/-0.085) for {'learning_rate': 1, 'max_depth': 5, 'n_estimators': 5}\n",
      "0.933 (+/-0.085) for {'learning_rate': 1, 'max_depth': 5, 'n_estimators': 50}\n",
      "0.933 (+/-0.085) for {'learning_rate': 1, 'max_depth': 5, 'n_estimators': 250}\n",
      "0.933 (+/-0.085) for {'learning_rate': 1, 'max_depth': 5, 'n_estimators': 500}\n",
      "0.95 (+/-0.062) for {'learning_rate': 1, 'max_depth': 7, 'n_estimators': 5}\n",
      "0.942 (+/-0.067) for {'learning_rate': 1, 'max_depth': 7, 'n_estimators': 50}\n",
      "0.95 (+/-0.062) for {'learning_rate': 1, 'max_depth': 7, 'n_estimators': 250}\n",
      "0.942 (+/-0.067) for {'learning_rate': 1, 'max_depth': 7, 'n_estimators': 500}\n",
      "0.95 (+/-0.062) for {'learning_rate': 1, 'max_depth': 9, 'n_estimators': 5}\n",
      "0.958 (+/-0.053) for {'learning_rate': 1, 'max_depth': 9, 'n_estimators': 50}\n",
      "0.933 (+/-0.085) for {'learning_rate': 1, 'max_depth': 9, 'n_estimators': 250}\n",
      "0.942 (+/-0.067) for {'learning_rate': 1, 'max_depth': 9, 'n_estimators': 500}\n",
      "0.525 (+/-0.666) for {'learning_rate': 10, 'max_depth': 1, 'n_estimators': 5}\n",
      "0.525 (+/-0.666) for {'learning_rate': 10, 'max_depth': 1, 'n_estimators': 50}\n",
      "0.525 (+/-0.666) for {'learning_rate': 10, 'max_depth': 1, 'n_estimators': 250}\n",
      "0.525 (+/-0.666) for {'learning_rate': 10, 'max_depth': 1, 'n_estimators': 500}\n",
      "0.95 (+/-0.033) for {'learning_rate': 10, 'max_depth': 3, 'n_estimators': 5}\n",
      "0.942 (+/-0.085) for {'learning_rate': 10, 'max_depth': 3, 'n_estimators': 50}\n",
      "0.95 (+/-0.062) for {'learning_rate': 10, 'max_depth': 3, 'n_estimators': 250}\n",
      "0.958 (+/-0.053) for {'learning_rate': 10, 'max_depth': 3, 'n_estimators': 500}\n",
      "0.95 (+/-0.062) for {'learning_rate': 10, 'max_depth': 5, 'n_estimators': 5}\n",
      "0.958 (+/-0.053) for {'learning_rate': 10, 'max_depth': 5, 'n_estimators': 50}\n",
      "0.95 (+/-0.062) for {'learning_rate': 10, 'max_depth': 5, 'n_estimators': 250}\n",
      "0.95 (+/-0.062) for {'learning_rate': 10, 'max_depth': 5, 'n_estimators': 500}\n",
      "0.95 (+/-0.062) for {'learning_rate': 10, 'max_depth': 7, 'n_estimators': 5}\n",
      "0.95 (+/-0.062) for {'learning_rate': 10, 'max_depth': 7, 'n_estimators': 50}\n",
      "0.958 (+/-0.053) for {'learning_rate': 10, 'max_depth': 7, 'n_estimators': 250}\n",
      "0.958 (+/-0.053) for {'learning_rate': 10, 'max_depth': 7, 'n_estimators': 500}\n",
      "0.942 (+/-0.085) for {'learning_rate': 10, 'max_depth': 9, 'n_estimators': 5}\n",
      "0.95 (+/-0.062) for {'learning_rate': 10, 'max_depth': 9, 'n_estimators': 50}\n",
      "0.95 (+/-0.062) for {'learning_rate': 10, 'max_depth': 9, 'n_estimators': 250}\n",
      "0.942 (+/-0.085) for {'learning_rate': 10, 'max_depth': 9, 'n_estimators': 500}\n",
      "0.525 (+/-0.666) for {'learning_rate': 100, 'max_depth': 1, 'n_estimators': 5}\n",
      "0.483 (+/-0.584) for {'learning_rate': 100, 'max_depth': 1, 'n_estimators': 50}\n",
      "0.483 (+/-0.584) for {'learning_rate': 100, 'max_depth': 1, 'n_estimators': 250}\n",
      "0.483 (+/-0.584) for {'learning_rate': 100, 'max_depth': 1, 'n_estimators': 500}\n",
      "0.942 (+/-0.041) for {'learning_rate': 100, 'max_depth': 3, 'n_estimators': 5}\n",
      "0.933 (+/-0.067) for {'learning_rate': 100, 'max_depth': 3, 'n_estimators': 50}\n",
      "0.95 (+/-0.033) for {'learning_rate': 100, 'max_depth': 3, 'n_estimators': 250}\n",
      "0.942 (+/-0.041) for {'learning_rate': 100, 'max_depth': 3, 'n_estimators': 500}\n",
      "0.95 (+/-0.062) for {'learning_rate': 100, 'max_depth': 5, 'n_estimators': 5}\n",
      "0.95 (+/-0.062) for {'learning_rate': 100, 'max_depth': 5, 'n_estimators': 50}\n",
      "0.942 (+/-0.067) for {'learning_rate': 100, 'max_depth': 5, 'n_estimators': 250}\n",
      "0.95 (+/-0.062) for {'learning_rate': 100, 'max_depth': 5, 'n_estimators': 500}\n",
      "0.958 (+/-0.053) for {'learning_rate': 100, 'max_depth': 7, 'n_estimators': 5}\n",
      "0.95 (+/-0.062) for {'learning_rate': 100, 'max_depth': 7, 'n_estimators': 50}\n",
      "0.958 (+/-0.053) for {'learning_rate': 100, 'max_depth': 7, 'n_estimators': 250}\n",
      "0.942 (+/-0.067) for {'learning_rate': 100, 'max_depth': 7, 'n_estimators': 500}\n",
      "0.95 (+/-0.062) for {'learning_rate': 100, 'max_depth': 9, 'n_estimators': 5}\n",
      "0.95 (+/-0.062) for {'learning_rate': 100, 'max_depth': 9, 'n_estimators': 50}\n",
      "0.95 (+/-0.062) for {'learning_rate': 100, 'max_depth': 9, 'n_estimators': 250}\n",
      "0.95 (+/-0.062) for {'learning_rate': 100, 'max_depth': 9, 'n_estimators': 500}\n"
     ]
    }
   ],
   "source": [
    "gb = GradientBoostingClassifier()\n",
    "parameters = {\n",
    "    'n_estimators': [5, 50, 250, 500],\n",
    "    'max_depth': [1, 3, 5, 7, 9],\n",
    "    'learning_rate': [0.01, 0.1, 1, 10, 100]\n",
    "}\n",
    "\n",
    "cv = GridSearchCV(gb, parameters, cv=5)\n",
    "cv.fit(X_train, y_train.values.ravel())\n",
    "\n",
    "model_results(cv)"
   ]
  },
  {
   "cell_type": "code",
   "execution_count": 49,
   "id": "84a2d5eb",
   "metadata": {},
   "outputs": [],
   "source": [
    "GB_models = cv.best_estimator_"
   ]
  },
  {
   "cell_type": "code",
   "execution_count": 50,
   "id": "5bc6cf09",
   "metadata": {},
   "outputs": [
    {
     "name": "stdout",
     "output_type": "stream",
     "text": [
      "Gradient Boosting Validation Accuracy: 0.9333333333333333\n"
     ]
    },
    {
     "data": {
      "text/plain": [
       "array([ True,  True,  True,  True,  True,  True, False,  True,  True,\n",
       "        True,  True,  True,  True,  True,  True])"
      ]
     },
     "execution_count": 50,
     "metadata": {},
     "output_type": "execute_result"
    }
   ],
   "source": [
    "# Validation Accuracy\n",
    "\n",
    "pred = GB_models.predict(X_val)\n",
    "accuracy = GB_models.score(X_val, y_val)\n",
    "print('Gradient Boosting Validation Accuracy: {}'.format(accuracy))\n",
    "\n",
    "pred == y_val.values.ravel()"
   ]
  },
  {
   "cell_type": "code",
   "execution_count": 51,
   "id": "a765f428",
   "metadata": {},
   "outputs": [
    {
     "name": "stdout",
     "output_type": "stream",
     "text": [
      "Gradient Boosting Test Accuracy: 0.9333333333333333\n"
     ]
    },
    {
     "data": {
      "text/plain": [
       "array([ True,  True,  True,  True,  True,  True,  True,  True,  True,\n",
       "        True, False,  True,  True,  True,  True])"
      ]
     },
     "execution_count": 51,
     "metadata": {},
     "output_type": "execute_result"
    }
   ],
   "source": [
    "# Test Accuracy\n",
    "\n",
    "pred = GB_models.predict(X_test)\n",
    "accuracy = GB_models.score(X_test, y_test)\n",
    "print('Gradient Boosting Test Accuracy: {}'.format(accuracy))\n",
    "\n",
    "pred == y_test.values.ravel()"
   ]
  },
  {
   "cell_type": "code",
   "execution_count": 52,
   "id": "78f843cb",
   "metadata": {},
   "outputs": [
    {
     "data": {
      "text/plain": [
       "['GB80_model.pkl']"
      ]
     },
     "execution_count": 52,
     "metadata": {},
     "output_type": "execute_result"
    }
   ],
   "source": [
    "joblib.dump(GB_models, 'GB80_model.pkl')"
   ]
  },
  {
   "cell_type": "markdown",
   "id": "4720c5f9",
   "metadata": {},
   "source": [
    "## Comparing Performance of the models"
   ]
  },
  {
   "cell_type": "code",
   "execution_count": 53,
   "id": "f7868451",
   "metadata": {},
   "outputs": [],
   "source": [
    "models = {}\n",
    "\n",
    "for mdl in ['LR60', 'SVM60', 'GB60', 'LR80', 'SVM80', 'GB80']:\n",
    "    models[mdl] = joblib.load('{}_model.pkl'.format(mdl))"
   ]
  },
  {
   "cell_type": "code",
   "execution_count": 54,
   "id": "113a9ac9",
   "metadata": {},
   "outputs": [
    {
     "data": {
      "text/plain": [
       "{'LR60': LogisticRegression(C=1),\n",
       " 'SVM60': SVC(C=1, kernel='linear'),\n",
       " 'GB60': GradientBoostingClassifier(learning_rate=0.01, max_depth=1, n_estimators=250),\n",
       " 'LR80': LogisticRegression(C=10),\n",
       " 'SVM80': SVC(C=1, kernel='linear'),\n",
       " 'GB80': GradientBoostingClassifier(learning_rate=1, max_depth=1, n_estimators=50)}"
      ]
     },
     "execution_count": 54,
     "metadata": {},
     "output_type": "execute_result"
    }
   ],
   "source": [
    "models"
   ]
  },
  {
   "cell_type": "code",
   "execution_count": 55,
   "id": "e47a5548",
   "metadata": {},
   "outputs": [],
   "source": [
    "def evaluate_model(name, model, features, labels):\n",
    "    start = time()\n",
    "    pred = model.predict(features)\n",
    "    end = time()\n",
    "    accuracy = round(accuracy_score(labels, pred), 3)\n",
    "    precision = round(precision_score(labels, pred, average='micro'), 3)\n",
    "    recall = round(recall_score(labels, pred, average='micro'), 3)\n",
    "    print('{} -- Accuracy: {} / Precision: {} / Recall: {} / Latency: {}ms'.format(name,\n",
    "                                                                                   accuracy,\n",
    "                                                                                   precision,\n",
    "                                                                                   recall,\n",
    "                                                                                   round((end - start)*1000, 1)))"
   ]
  },
  {
   "cell_type": "code",
   "execution_count": 56,
   "id": "6928c9cf",
   "metadata": {},
   "outputs": [
    {
     "name": "stdout",
     "output_type": "stream",
     "text": [
      "LR60 -- Accuracy: 0.933 / Precision: 0.933 / Recall: 0.933 / Latency: 1.0ms\n",
      "SVM60 -- Accuracy: 1.0 / Precision: 1.0 / Recall: 1.0 / Latency: 1.0ms\n",
      "GB60 -- Accuracy: 0.933 / Precision: 0.933 / Recall: 0.933 / Latency: 2.0ms\n",
      "LR80 -- Accuracy: 0.933 / Precision: 0.933 / Recall: 0.933 / Latency: 2.4ms\n",
      "SVM80 -- Accuracy: 1.0 / Precision: 1.0 / Recall: 1.0 / Latency: 1.0ms\n",
      "GB80 -- Accuracy: 0.933 / Precision: 0.933 / Recall: 0.933 / Latency: 2.0ms\n"
     ]
    }
   ],
   "source": [
    "for name, mdl in models.items():\n",
    "    evaluate_model(name, mdl, X_val, y_val)"
   ]
  },
  {
   "cell_type": "markdown",
   "id": "ce4558cc",
   "metadata": {},
   "source": [
    "## Performance Analysis on Validation Set\n",
    "\n",
    "Based on the performance metrics, following are the analysis:\n",
    "\n",
    "Accuracy: \n",
    "    \n",
    "Both split ratios provide relatively high accuracy for all the 3 models, ranging from 0.933 to 1.00. SVM outperforms the logistic and Gradient Boosting, with the 60-20-20 split ratio recording the best accuracy (1.0) against the test data.\n",
    "    \n",
    "Precision: \n",
    "    \n",
    "The precision values for the various models and split ratios vary from 0.933 to 1.00, indicating successful positive sample \n",
    "identification. Due to its exceptional precision (1.00) in 60:20:20 ratios, SVM stands out. As a result, SVM predictions are \n",
    "extremely reliable.\n",
    "\n",
    "Recall:\n",
    "    \n",
    "Similar to the recall values, which range from 0.933 to 1.00, the recall values are also high. SVM exhibits remarkable \n",
    "performance with a recall of exactly one (1.00) in both split ratios. It follows from this that SVM can accurately identify all \n",
    "positive samples, reducing the likelihood of false negatives.\n",
    "\n",
    "\n",
    "Latency: \n",
    "The latency figures indicate the amount of time each model took to process. Logistic Regression with holds the highest latency of (2.4ms) on 80:10:10 split ratio, followed by Gradient Boosting with latency (2.0ms) on both the split ratios. SVM model for \n",
    "both split ratios hold (1.0ms). "
   ]
  },
  {
   "cell_type": "code",
   "execution_count": 57,
   "id": "0653cf2c",
   "metadata": {},
   "outputs": [
    {
     "name": "stdout",
     "output_type": "stream",
     "text": [
      "SVM on Train-Test Split(60,20,20) -- Accuracy: 1.0 / Precision: 1.0 / Recall: 1.0 / Latency: 2.6ms\n"
     ]
    }
   ],
   "source": [
    "evaluate_model('SVM on Train-Test Split(60,20,20)', models['SVM60'], X_test, y_test)"
   ]
  },
  {
   "cell_type": "code",
   "execution_count": 58,
   "id": "0ae2ba7b",
   "metadata": {},
   "outputs": [
    {
     "name": "stdout",
     "output_type": "stream",
     "text": [
      "SVM Train-Test Split (80,10,10) -- Accuracy: 0.933 / Precision: 0.933 / Recall: 0.933 / Latency: 1.0ms\n"
     ]
    }
   ],
   "source": [
    "evaluate_model('SVM Train-Test Split (80,10,10)', models['SVM80'], X_test, y_test)"
   ]
  },
  {
   "cell_type": "markdown",
   "id": "6b26dd27",
   "metadata": {},
   "source": [
    "## Performance Analysis on Test Set\n",
    "\n",
    "The optimum model and split ratio, while taking into account overall performance, depending on the particular evaluation \n",
    "criteria that are most significant to you. SVM regularly works well with impeccable accuracy, precision, and recall, according \n",
    "to the data supplied. The 80:10:10 split ratio is chosen if lower latency is a key consideration because it has a 1.0ms delay \n",
    "for every model, where as 60:20:20 if accuracy, precision, and recall are the primary concern."
   ]
  }
 ],
 "metadata": {
  "kernelspec": {
   "display_name": "Python 3 (ipykernel)",
   "language": "python",
   "name": "python3"
  },
  "language_info": {
   "codemirror_mode": {
    "name": "ipython",
    "version": 3
   },
   "file_extension": ".py",
   "mimetype": "text/x-python",
   "name": "python",
   "nbconvert_exporter": "python",
   "pygments_lexer": "ipython3",
   "version": "3.10.9"
  }
 },
 "nbformat": 4,
 "nbformat_minor": 5
}
